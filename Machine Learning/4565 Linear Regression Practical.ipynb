{
 "cells": [
  {
   "cell_type": "code",
   "execution_count": 2,
   "metadata": {},
   "outputs": [
    {
     "name": "stdout",
     "output_type": "stream",
     "text": [
      "0 0.7370702973591053 0.014547010110737297 1484.5865574086486\n",
      "1 1.1067954543515157 0.02187396295959641 457.8542575737672\n",
      "2 1.2922546649131115 0.025579224321293136 199.5099857255389\n",
      "3 1.385283255651245 0.027467789559144355 134.50591058200533\n",
      "4 1.4319472323843205 0.028445071981738963 118.1496934223995\n",
      "5 1.4553540088980408 0.028965240766478616 114.0341490603815\n",
      "6 1.4670946177201354 0.029256114126046697 112.99857731713657\n",
      "7 1.4729832982243762 0.029431969163807123 112.73798187568467\n",
      "8 1.4759365618962286 0.029550129024383066 112.6723843590911\n",
      "9 1.47741737554838 0.029639347874732384 112.65585181499745\n",
      "1.47741737554838 0.029639347874732384\n"
     ]
    }
   ],
   "source": [
    "import numpy as np\n",
    "import pandas as pd\n",
    "\n",
    "def step_gradient(points,learning_rate,m,c):\n",
    "    N=len(points)\n",
    "    slope_m,slope_c=0,0\n",
    "    for i in range(N):\n",
    "        x,y=points[i,0],points[i,1]\n",
    "        slope_m+=(-2/N)*(y-m*x-c)*(x)\n",
    "        slope_c+=(-2/N)*(y-m*x-c)\n",
    "    new_m=m-learning_rate*slope_m\n",
    "    new_c=c-learning_rate*slope_c\n",
    "    return new_m,new_c\n",
    "\n",
    "def gd(points,learning_rate,no_iterations):\n",
    "    m,c=0,0\n",
    "    for i in range(no_iterations):\n",
    "        m,c=step_gradient(points,learning_rate,m,c)\n",
    "        cst=cost(points,m,c)\n",
    "        print(i,m,c,cst)\n",
    "    return m,c\n",
    "\n",
    "def cost(points,m,c):\n",
    "    N=len(points)\n",
    "    cst=0\n",
    "    for i in range(N):\n",
    "        x,y=points[i,0],points[i,1]\n",
    "        cst+=(1/N)*((y-m*x-c)**2)\n",
    "    return cst\n",
    "\n",
    "def run():    \n",
    "    data=np.loadtxt(\"C:\\\\Users\\\\jhasa\\\\Desktop\\\\data.csv\",delimiter=',')\n",
    "    learning_rate=0.0001\n",
    "    no_iterations=10\n",
    "    m,c=gd(data,learning_rate,no_iterations)\n",
    "    print(m,c)\n",
    "run()"
   ]
  }
 ],
 "metadata": {
  "kernelspec": {
   "display_name": "Python 3",
   "language": "python",
   "name": "python3"
  },
  "language_info": {
   "codemirror_mode": {
    "name": "ipython",
    "version": 3
   },
   "file_extension": ".py",
   "mimetype": "text/x-python",
   "name": "python",
   "nbconvert_exporter": "python",
   "pygments_lexer": "ipython3",
   "version": "3.7.3"
  }
 },
 "nbformat": 4,
 "nbformat_minor": 2
}
