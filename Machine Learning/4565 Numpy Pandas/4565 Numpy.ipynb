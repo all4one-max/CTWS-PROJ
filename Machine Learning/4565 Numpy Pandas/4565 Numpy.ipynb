{
 "cells": [
  {
   "cell_type": "markdown",
   "metadata": {},
   "source": [
    "### WHY USE NUMPY OVER LIST?"
   ]
  },
  {
   "cell_type": "markdown",
   "metadata": {},
   "source": [
    "### 1. LESS MEMORY REQUIRED IN NUMPY ARRAY OVER LIST"
   ]
  },
  {
   "cell_type": "code",
   "execution_count": 64,
   "metadata": {},
   "outputs": [
    {
     "name": "stdout",
     "output_type": "stream",
     "text": [
      "List element size 24\n",
      "List size 2400\n",
      "Numpy element size 4\n",
      "Numpy size 400\n"
     ]
    }
   ],
   "source": [
    "import sys, numpy as np\n",
    "li=[i for i in range(100)]\n",
    "# print(*li)\n",
    "# size of one element in list\n",
    "print(\"List element size\", sys.getsizeof(li[0]))\n",
    "# size of all the elements of the list\n",
    "print(\"List size\", sys.getsizeof(li[0])*len(li))\n",
    "\n",
    "np_arr=np.arange(100)\n",
    "# print(np_arr)\n",
    "# size of one element of np_arr\n",
    "print(\"Numpy element size\", np_arr.itemsize)\n",
    "# size of all the elements of the np_arr\n",
    "print(\"Numpy size\", (np_arr.itemsize)*len(np_arr))"
   ]
  },
  {
   "cell_type": "markdown",
   "metadata": {},
   "source": [
    "### 2. LESS TIME REQUIRED"
   ]
  },
  {
   "cell_type": "code",
   "execution_count": 65,
   "metadata": {},
   "outputs": [
    {
     "name": "stdout",
     "output_type": "stream",
     "text": [
      "22.001981735229492\n",
      "1.9984245300292969\n"
     ]
    }
   ],
   "source": [
    "import time\n",
    "import numpy as np\n",
    "size=100000\n",
    "\n",
    "# add two list\n",
    "t1=time.time()\n",
    "l1=[i for i in range(size)]\n",
    "l2=[i for i in range(size)]\n",
    "l3=[l1[i]+l2[i] for i in range(size)]\n",
    "t2=time.time()\n",
    "print((t2-t1)*1000)\n",
    "\n",
    "# add two numpy arr\n",
    "t1=time.time()\n",
    "np1=np.arange(size)\n",
    "np2=np.arange(size)\n",
    "np3=np1+np2\n",
    "t2=time.time()\n",
    "print((t2-t1)*1000)"
   ]
  },
  {
   "cell_type": "code",
   "execution_count": 31,
   "metadata": {},
   "outputs": [
    {
     "name": "stdout",
     "output_type": "stream",
     "text": [
      "Array from List [4 5 6 5]\n",
      "np.zeros() [0. 0. 0.]\n",
      "np.ones() [1 1 1]\n",
      "np.empty() [5 6 7 8 9]\n",
      "np.arrange() [0 1 2 3 4]\n",
      "np.arrange() in a range [5 6 7 8 9]\n",
      "np.linspace [2. 3. 4. 5. 6.]\n"
     ]
    }
   ],
   "source": [
    "import numpy as np\n",
    "\n",
    "print(\"Array from List\", np.array([4, 5, 6, 5]))\n",
    "print(\"np.zeros()\", np.zeros(3))\n",
    "print(\"np.ones()\", np.ones(3, dtype = int))\n",
    "print(\"np.empty()\", np.empty(5, dtype = int))\n",
    "print(\"np.arrange()\", np.arange(5))\n",
    "print(\"np.arrange() in a range\", np.arange(5, 10))\n",
    "print(\"np.linspace\", np.linspace(2, 6, 5))"
   ]
  },
  {
   "cell_type": "code",
   "execution_count": 66,
   "metadata": {},
   "outputs": [
    {
     "name": "stdout",
     "output_type": "stream",
     "text": [
      "Sort Array [1 2 3 4 5]\n",
      "Concatenate Arrays [[1 2 3 4 5]\n",
      " [5 6 7 8 9]]\n",
      "Concatenate Arrays [[ 1  2  3  7  8]\n",
      " [ 4  5  6  9 10]]\n",
      "Dimension 2\n",
      "Shape (2, 3)\n",
      "Size 6\n",
      "Reshape array [[1 2]\n",
      " [3 4]\n",
      " [5 6]]\n"
     ]
    }
   ],
   "source": [
    "arr = np.array([1, 2, 3, 4, 5])\n",
    "print(\"Sort Array\", np.sort(arr))\n",
    "\n",
    "a = np.array([[1, 2, 3, 4, 5]])\n",
    "b = np.array([[5, 6, 7, 8, 9]])\n",
    "print(\"Concatenate Arrays\", np.concatenate((a, b), axis = 0))\n",
    "\n",
    "a = np.array([[1, 2, 3], [4, 5, 6]])\n",
    "b = np.array([[7, 8], [9, 10]])\n",
    "print(\"Concatenate Arrays\", np.concatenate((a, b), axis = 1))\n",
    "print(\"Dimension\", a.ndim)\n",
    "print(\"Shape\", a.shape)\n",
    "print(\"Size\", a.size)\n",
    "\n",
    "print(\"Reshape array\", a.reshape((3, 2)))"
   ]
  },
  {
   "cell_type": "code",
   "execution_count": 74,
   "metadata": {},
   "outputs": [
    {
     "name": "stdout",
     "output_type": "stream",
     "text": [
      "SLICING 8\n",
      "SLICING [ 4  8 12]\n",
      "SLICING [[10 11]\n",
      " [14 15]]\n"
     ]
    }
   ],
   "source": [
    "import numpy as np\n",
    "\n",
    "li_2d=[[1,2,3,4],[5,6,7,8],[9,10,11,12],[13,14,15,16]]\n",
    "np_2d=np.array(li_2d)\n",
    "print(\"SLICING\", np_2d[1,3])\n",
    "print(\"SLICING\", np_2d[:3,3])\n",
    "print(\"SLICING\", np_2d[2:,1:3])"
   ]
  },
  {
   "cell_type": "code",
   "execution_count": 75,
   "metadata": {},
   "outputs": [
    {
     "name": "stdout",
     "output_type": "stream",
     "text": [
      "[ 2  4  6  8 10]\n",
      "[False False  True  True  True]\n",
      "[ 6  8 10]\n",
      "[ 6  8 10]\n",
      "[2 4 7 7 7]\n",
      "[2 4]\n",
      "(array([2, 3, 4], dtype=int64),)\n",
      "[5 5 7 7 7]\n"
     ]
    }
   ],
   "source": [
    "import numpy as np\n",
    "np1=np.arange(2,11,2)\n",
    "print(np1)\n",
    "a=np1>4\n",
    "print(a)\n",
    "print(np1[a])\n",
    "print(np1[np1>4])\n",
    "np1[np1>4]=7\n",
    "print(np1)\n",
    "print(np1[(np1>1) & (np1<7)])\n",
    "print(np.where(np1==7))\n",
    "np1[:2]=5\n",
    "print(np1)"
   ]
  }
 ],
 "metadata": {
  "kernelspec": {
   "display_name": "Python 3",
   "language": "python",
   "name": "python3"
  },
  "language_info": {
   "codemirror_mode": {
    "name": "ipython",
    "version": 3
   },
   "file_extension": ".py",
   "mimetype": "text/x-python",
   "name": "python",
   "nbconvert_exporter": "python",
   "pygments_lexer": "ipython3",
   "version": "3.7.3"
  }
 },
 "nbformat": 4,
 "nbformat_minor": 2
}
