{
  "cells": [
    {
      "cell_type": "markdown",
      "metadata": {
        "id": "XaRU986OD1MV"
      },
      "source": [
        "### Import"
      ]
    },
    {
      "cell_type": "code",
      "execution_count": null,
      "metadata": {
        "id": "JLWCIBuUD1Md"
      },
      "outputs": [],
      "source": [
        "import numpy as np\n",
        "import pandas as pd\n",
        "import sklearn\n",
        "\n",
        "import warnings\n",
        "warnings.simplefilter('ignore')"
      ]
    },
    {
      "cell_type": "markdown",
      "metadata": {
        "id": "nduf0YYND1Mh"
      },
      "source": [
        "### Load Data / Prepare Data"
      ]
    },
    {
      "cell_type": "code",
      "execution_count": null,
      "metadata": {
        "id": "0Gu1yv7rD1Mi"
      },
      "outputs": [],
      "source": [
        "# create some dummy data\n",
        "docs = ['NSUT is a great educational institution.',\n",
        "        'Educational greatness depends on ethics',\n",
        "        'A story of great ethics and educational greatness',\n",
        "        'Sholey is a great cinema',\n",
        "        'good movie depends on good story',\n",
        "        'very good educational institute']\n",
        "label = ['education','education','education','cinema','cinema','education' ]"
      ]
    },
    {
      "cell_type": "code",
      "execution_count": null,
      "metadata": {
        "id": "1Cl2KPoFD1Mk"
      },
      "outputs": [],
      "source": [
        "# create a dataframe\n",
        "df = pd.DataFrame(list(zip(docs, label)), columns = ['docs','class'])"
      ]
    },
    {
      "cell_type": "code",
      "execution_count": null,
      "metadata": {
        "id": "_Ll2V887D1Ml",
        "outputId": "4e2696ee-e244-48d7-ca6d-50cfc5a7e446"
      },
      "outputs": [
        {
          "data": {
            "text/html": [
              "<div>\n",
              "<style scoped>\n",
              "    .dataframe tbody tr th:only-of-type {\n",
              "        vertical-align: middle;\n",
              "    }\n",
              "\n",
              "    .dataframe tbody tr th {\n",
              "        vertical-align: top;\n",
              "    }\n",
              "\n",
              "    .dataframe thead th {\n",
              "        text-align: right;\n",
              "    }\n",
              "</style>\n",
              "<table border=\"1\" class=\"dataframe\">\n",
              "  <thead>\n",
              "    <tr style=\"text-align: right;\">\n",
              "      <th></th>\n",
              "      <th>docs</th>\n",
              "      <th>class</th>\n",
              "    </tr>\n",
              "  </thead>\n",
              "  <tbody>\n",
              "    <tr>\n",
              "      <th>0</th>\n",
              "      <td>NSUT is a great educational institution.</td>\n",
              "      <td>education</td>\n",
              "    </tr>\n",
              "    <tr>\n",
              "      <th>1</th>\n",
              "      <td>Educational greatness depends on ethics</td>\n",
              "      <td>education</td>\n",
              "    </tr>\n",
              "    <tr>\n",
              "      <th>2</th>\n",
              "      <td>A story of great ethics and educational greatness</td>\n",
              "      <td>education</td>\n",
              "    </tr>\n",
              "    <tr>\n",
              "      <th>3</th>\n",
              "      <td>Sholey is a great cinema</td>\n",
              "      <td>cinema</td>\n",
              "    </tr>\n",
              "    <tr>\n",
              "      <th>4</th>\n",
              "      <td>good movie depends on good story</td>\n",
              "      <td>cinema</td>\n",
              "    </tr>\n",
              "    <tr>\n",
              "      <th>5</th>\n",
              "      <td>very good educational institute</td>\n",
              "      <td>education</td>\n",
              "    </tr>\n",
              "  </tbody>\n",
              "</table>\n",
              "</div>"
            ],
            "text/plain": [
              "                                                docs      class\n",
              "0           NSUT is a great educational institution.  education\n",
              "1            Educational greatness depends on ethics  education\n",
              "2  A story of great ethics and educational greatness  education\n",
              "3                           Sholey is a great cinema     cinema\n",
              "4                   good movie depends on good story     cinema\n",
              "5                    very good educational institute  education"
            ]
          },
          "execution_count": 4,
          "metadata": {},
          "output_type": "execute_result"
        }
      ],
      "source": [
        "# display the data created\n",
        "df"
      ]
    },
    {
      "cell_type": "code",
      "execution_count": null,
      "metadata": {
        "id": "Rg1_ZzHBD1Mn"
      },
      "outputs": [],
      "source": [
        "# Train-Test Split\n",
        "train, test = df.iloc[:5,:],df.iloc[5:,:]"
      ]
    },
    {
      "cell_type": "markdown",
      "metadata": {
        "id": "5RGBgo_UD1Mp"
      },
      "source": [
        "#### Lets transform the data so that we can apply baysian classifier"
      ]
    },
    {
      "cell_type": "code",
      "execution_count": null,
      "metadata": {
        "id": "OI1t_edPD1Mp",
        "outputId": "fb57541b-b73d-462e-c1d7-26399d43dacd"
      },
      "outputs": [
        {
          "data": {
            "text/html": [
              "<div>\n",
              "<style scoped>\n",
              "    .dataframe tbody tr th:only-of-type {\n",
              "        vertical-align: middle;\n",
              "    }\n",
              "\n",
              "    .dataframe tbody tr th {\n",
              "        vertical-align: top;\n",
              "    }\n",
              "\n",
              "    .dataframe thead th {\n",
              "        text-align: right;\n",
              "    }\n",
              "</style>\n",
              "<table border=\"1\" class=\"dataframe\">\n",
              "  <thead>\n",
              "    <tr style=\"text-align: right;\">\n",
              "      <th></th>\n",
              "      <th>docs</th>\n",
              "      <th>class</th>\n",
              "      <th>label</th>\n",
              "    </tr>\n",
              "  </thead>\n",
              "  <tbody>\n",
              "    <tr>\n",
              "      <th>0</th>\n",
              "      <td>NSUT is a great educational institution.</td>\n",
              "      <td>education</td>\n",
              "      <td>0</td>\n",
              "    </tr>\n",
              "    <tr>\n",
              "      <th>1</th>\n",
              "      <td>Educational greatness depends on ethics</td>\n",
              "      <td>education</td>\n",
              "      <td>0</td>\n",
              "    </tr>\n",
              "    <tr>\n",
              "      <th>2</th>\n",
              "      <td>A story of great ethics and educational greatness</td>\n",
              "      <td>education</td>\n",
              "      <td>0</td>\n",
              "    </tr>\n",
              "    <tr>\n",
              "      <th>3</th>\n",
              "      <td>Sholey is a great cinema</td>\n",
              "      <td>cinema</td>\n",
              "      <td>1</td>\n",
              "    </tr>\n",
              "    <tr>\n",
              "      <th>4</th>\n",
              "      <td>good movie depends on good story</td>\n",
              "      <td>cinema</td>\n",
              "      <td>1</td>\n",
              "    </tr>\n",
              "  </tbody>\n",
              "</table>\n",
              "</div>"
            ],
            "text/plain": [
              "                                                docs      class  label\n",
              "0           NSUT is a great educational institution.  education      0\n",
              "1            Educational greatness depends on ethics  education      0\n",
              "2  A story of great ethics and educational greatness  education      0\n",
              "3                           Sholey is a great cinema     cinema      1\n",
              "4                   good movie depends on good story     cinema      1"
            ]
          },
          "execution_count": 6,
          "metadata": {},
          "output_type": "execute_result"
        }
      ],
      "source": [
        "# conver the labels to intergers. As there are only two classes we use 0 and 1\n",
        "train['label'] = train['class'].map({'education':0, 'cinema':1})\n",
        "train"
      ]
    },
    {
      "cell_type": "code",
      "execution_count": null,
      "metadata": {
        "id": "cnfJrQZjD1Mr",
        "outputId": "c8fbcec8-6ae4-42b5-a1c8-f7f5234da5ed"
      },
      "outputs": [
        {
          "data": {
            "text/html": [
              "<div>\n",
              "<style scoped>\n",
              "    .dataframe tbody tr th:only-of-type {\n",
              "        vertical-align: middle;\n",
              "    }\n",
              "\n",
              "    .dataframe tbody tr th {\n",
              "        vertical-align: top;\n",
              "    }\n",
              "\n",
              "    .dataframe thead th {\n",
              "        text-align: right;\n",
              "    }\n",
              "</style>\n",
              "<table border=\"1\" class=\"dataframe\">\n",
              "  <thead>\n",
              "    <tr style=\"text-align: right;\">\n",
              "      <th></th>\n",
              "      <th>docs</th>\n",
              "      <th>label</th>\n",
              "    </tr>\n",
              "  </thead>\n",
              "  <tbody>\n",
              "    <tr>\n",
              "      <th>0</th>\n",
              "      <td>NSUT is a great educational institution.</td>\n",
              "      <td>0</td>\n",
              "    </tr>\n",
              "    <tr>\n",
              "      <th>1</th>\n",
              "      <td>Educational greatness depends on ethics</td>\n",
              "      <td>0</td>\n",
              "    </tr>\n",
              "    <tr>\n",
              "      <th>2</th>\n",
              "      <td>A story of great ethics and educational greatness</td>\n",
              "      <td>0</td>\n",
              "    </tr>\n",
              "    <tr>\n",
              "      <th>3</th>\n",
              "      <td>Sholey is a great cinema</td>\n",
              "      <td>1</td>\n",
              "    </tr>\n",
              "    <tr>\n",
              "      <th>4</th>\n",
              "      <td>good movie depends on good story</td>\n",
              "      <td>1</td>\n",
              "    </tr>\n",
              "  </tbody>\n",
              "</table>\n",
              "</div>"
            ],
            "text/plain": [
              "                                                docs  label\n",
              "0           NSUT is a great educational institution.      0\n",
              "1            Educational greatness depends on ethics      0\n",
              "2  A story of great ethics and educational greatness      0\n",
              "3                           Sholey is a great cinema      1\n",
              "4                   good movie depends on good story      1"
            ]
          },
          "execution_count": 7,
          "metadata": {},
          "output_type": "execute_result"
        }
      ],
      "source": [
        "# drop the class column\n",
        "train = train.drop('class', axis = 1)\n",
        "train"
      ]
    },
    {
      "cell_type": "markdown",
      "metadata": {
        "id": "lJ4ewLnXD1Ms"
      },
      "source": [
        "#### Lets create the dictionary"
      ]
    },
    {
      "cell_type": "code",
      "execution_count": null,
      "metadata": {
        "id": "G3hXoM_xD1Mt"
      },
      "outputs": [],
      "source": [
        "from sklearn.feature_extraction.text import CountVectorizer\n",
        "# help(CountVectorizer)"
      ]
    },
    {
      "cell_type": "code",
      "execution_count": null,
      "metadata": {
        "collapsed": true,
        "id": "jXtMrbELD1Mt",
        "outputId": "404a3d02-5e6a-471c-aa4a-8519c7133334"
      },
      "outputs": [
        {
          "data": {
            "text/plain": [
              "{'nsut': 11,\n",
              " 'is': 9,\n",
              " 'great': 6,\n",
              " 'educational': 3,\n",
              " 'institution': 8,\n",
              " 'greatness': 7,\n",
              " 'depends': 2,\n",
              " 'on': 13,\n",
              " 'ethics': 4,\n",
              " 'story': 15,\n",
              " 'of': 12,\n",
              " 'and': 0,\n",
              " 'sholey': 14,\n",
              " 'cinema': 1,\n",
              " 'good': 5,\n",
              " 'movie': 10}"
            ]
          },
          "execution_count": 9,
          "metadata": {},
          "output_type": "execute_result"
        }
      ],
      "source": [
        "vec = CountVectorizer()\n",
        "vec.fit(train['docs'])\n",
        "vec.vocabulary_"
      ]
    },
    {
      "cell_type": "code",
      "execution_count": null,
      "metadata": {
        "collapsed": true,
        "id": "qoPscUaID1Mu",
        "outputId": "2eb1d117-3616-4693-98d8-7d52ec7fb886"
      },
      "outputs": [
        {
          "name": "stdout",
          "output_type": "stream",
          "text": [
            "dictionary created is:  ['and', 'cinema', 'depends', 'educational', 'ethics', 'good', 'great', 'greatness', 'institution', 'is', 'movie', 'nsut', 'of', 'on', 'sholey', 'story']\n",
            "Length of the dictionary is:  16\n"
          ]
        }
      ],
      "source": [
        "print('dictionary created is: ',vec.get_feature_names())\n",
        "print('Length of the dictionary is: ', len(vec.get_feature_names()))"
      ]
    },
    {
      "cell_type": "markdown",
      "metadata": {
        "id": "qUP1TDPXD1Mv"
      },
      "source": [
        "#### Remove Stop Words as they do not contribute to the classification method"
      ]
    },
    {
      "cell_type": "code",
      "execution_count": null,
      "metadata": {
        "collapsed": true,
        "id": "g7M1aG_pD1Mx",
        "outputId": "6a52fadc-10bd-42c0-abfe-a82c2e6934d8"
      },
      "outputs": [
        {
          "name": "stdout",
          "output_type": "stream",
          "text": [
            "dictionary created is:  ['cinema', 'depends', 'educational', 'ethics', 'good', 'great', 'greatness', 'institution', 'movie', 'nsut', 'sholey', 'story']\n",
            "Length of the dictionary is:  12\n"
          ]
        },
        {
          "data": {
            "text/plain": [
              "{'nsut': 9,\n",
              " 'great': 5,\n",
              " 'educational': 2,\n",
              " 'institution': 7,\n",
              " 'greatness': 6,\n",
              " 'depends': 1,\n",
              " 'ethics': 3,\n",
              " 'story': 11,\n",
              " 'sholey': 10,\n",
              " 'cinema': 0,\n",
              " 'good': 4,\n",
              " 'movie': 8}"
            ]
          },
          "execution_count": 11,
          "metadata": {},
          "output_type": "execute_result"
        }
      ],
      "source": [
        "# create the CountVectorizer object again but set the argument stop word to 'english'. The stop words will be removed \n",
        "# when you fit the documents\n",
        "vec2 = CountVectorizer(stop_words = 'english')\n",
        "vec2.fit(train['docs'])\n",
        "print('dictionary created is: ',vec2.get_feature_names())\n",
        "print('Length of the dictionary is: ', len(vec2.get_feature_names()))\n",
        "vec2.vocabulary_"
      ]
    },
    {
      "cell_type": "code",
      "execution_count": null,
      "metadata": {
        "id": "uPIuKyqkD1My",
        "outputId": "3bf62f8a-57ac-44a0-f374-a244a0e7803c"
      },
      "outputs": [
        {
          "data": {
            "text/plain": [
              "<5x12 sparse matrix of type '<class 'numpy.int64'>'\n",
              "\twith 20 stored elements in Compressed Sparse Row format>"
            ]
          },
          "execution_count": 12,
          "metadata": {},
          "output_type": "execute_result"
        }
      ],
      "source": [
        "# Convert the train docs to vector form\n",
        "X_vectors = vec2.transform(train['docs'])\n",
        "X_vectors"
      ]
    },
    {
      "cell_type": "code",
      "execution_count": null,
      "metadata": {
        "id": "BEt_01B9D1My",
        "outputId": "abe1241a-4d78-4b1b-ad2e-06fd46583d7f"
      },
      "outputs": [
        {
          "name": "stdout",
          "output_type": "stream",
          "text": [
            "['cinema', 'depends', 'educational', 'ethics', 'good', 'great', 'greatness', 'institution', 'movie', 'nsut', 'sholey', 'story']\n"
          ]
        },
        {
          "data": {
            "text/plain": [
              "array([[0, 0, 1, 0, 0, 1, 0, 1, 0, 1, 0, 0],\n",
              "       [0, 1, 1, 1, 0, 0, 1, 0, 0, 0, 0, 0],\n",
              "       [0, 0, 1, 1, 0, 1, 1, 0, 0, 0, 0, 1],\n",
              "       [1, 0, 0, 0, 0, 1, 0, 0, 0, 0, 1, 0],\n",
              "       [0, 1, 0, 0, 2, 0, 0, 0, 1, 0, 0, 1]], dtype=int64)"
            ]
          },
          "execution_count": 13,
          "metadata": {},
          "output_type": "execute_result"
        }
      ],
      "source": [
        "print(vec2.get_feature_names())\n",
        "X_vectors.toarray()"
      ]
    },
    {
      "cell_type": "code",
      "execution_count": null,
      "metadata": {
        "collapsed": true,
        "id": "_MjVNORJD1Mz",
        "outputId": "93a2d7f5-88be-48bb-dd3f-b14a76c6e5f3"
      },
      "outputs": [
        {
          "name": "stdout",
          "output_type": "stream",
          "text": [
            "  (0, 2)\t1\n",
            "  (0, 5)\t1\n",
            "  (0, 7)\t1\n",
            "  (0, 9)\t1\n",
            "  (1, 1)\t1\n",
            "  (1, 2)\t1\n",
            "  (1, 3)\t1\n",
            "  (1, 6)\t1\n",
            "  (2, 2)\t1\n",
            "  (2, 3)\t1\n",
            "  (2, 5)\t1\n",
            "  (2, 6)\t1\n",
            "  (2, 11)\t1\n",
            "  (3, 0)\t1\n",
            "  (3, 5)\t1\n",
            "  (3, 10)\t1\n",
            "  (4, 1)\t1\n",
            "  (4, 4)\t2\n",
            "  (4, 8)\t1\n",
            "  (4, 11)\t1\n"
          ]
        }
      ],
      "source": [
        "print(X_vectors)"
      ]
    },
    {
      "cell_type": "code",
      "execution_count": null,
      "metadata": {
        "id": "xZg7SvZfD1M0",
        "outputId": "1ce17085-771e-4782-a782-5208e9ac1bf8"
      },
      "outputs": [
        {
          "data": {
            "text/html": [
              "<div>\n",
              "<style scoped>\n",
              "    .dataframe tbody tr th:only-of-type {\n",
              "        vertical-align: middle;\n",
              "    }\n",
              "\n",
              "    .dataframe tbody tr th {\n",
              "        vertical-align: top;\n",
              "    }\n",
              "\n",
              "    .dataframe thead th {\n",
              "        text-align: right;\n",
              "    }\n",
              "</style>\n",
              "<table border=\"1\" class=\"dataframe\">\n",
              "  <thead>\n",
              "    <tr style=\"text-align: right;\">\n",
              "      <th></th>\n",
              "      <th>docs</th>\n",
              "      <th>class</th>\n",
              "    </tr>\n",
              "  </thead>\n",
              "  <tbody>\n",
              "    <tr>\n",
              "      <th>5</th>\n",
              "      <td>very good educational institute</td>\n",
              "      <td>education</td>\n",
              "    </tr>\n",
              "  </tbody>\n",
              "</table>\n",
              "</div>"
            ],
            "text/plain": [
              "                              docs      class\n",
              "5  very good educational institute  education"
            ]
          },
          "execution_count": 15,
          "metadata": {},
          "output_type": "execute_result"
        }
      ],
      "source": [
        "# transform the test set as well\n",
        "test"
      ]
    },
    {
      "cell_type": "code",
      "execution_count": null,
      "metadata": {
        "id": "jaV4ljMeD1M1",
        "outputId": "a248763a-e9d8-48c3-e903-64d7ba1e3ee8"
      },
      "outputs": [
        {
          "name": "stdout",
          "output_type": "stream",
          "text": [
            "[[0 0 1 0 1 0 0 0 0 0 0 0]]\n"
          ]
        }
      ],
      "source": [
        "# first convert the class labels to intergers\n",
        "test['label'] = test['class'].map({'education':0, 'cinema':1})\n",
        "# drop the class column as we did for train\n",
        "test.drop('class', axis = 1)\n",
        "\n",
        "# now transform as per our dictionary\n",
        "test_vectors = vec2.transform(test['docs'])\n",
        "print(test_vectors.toarray())"
      ]
    },
    {
      "cell_type": "markdown",
      "metadata": {
        "id": "pGCNUYF3D1M1"
      },
      "source": [
        "### Fit the Model"
      ]
    },
    {
      "cell_type": "code",
      "execution_count": null,
      "metadata": {
        "id": "Jzjwi7f1D1M2",
        "outputId": "e8eeafcb-2bc7-4eaa-9492-7ad5fbe57185"
      },
      "outputs": [
        {
          "data": {
            "text/plain": [
              "MultinomialNB()"
            ]
          },
          "execution_count": 17,
          "metadata": {},
          "output_type": "execute_result"
        }
      ],
      "source": [
        "from sklearn.naive_bayes import MultinomialNB\n",
        "\n",
        "mnb = MultinomialNB()\n",
        "\n",
        "mnb.fit(X_vectors, train['label'] )\n",
        "\n"
      ]
    },
    {
      "cell_type": "markdown",
      "metadata": {
        "id": "AQaWWIm1D1M3"
      },
      "source": [
        "### Test the Model"
      ]
    },
    {
      "cell_type": "code",
      "execution_count": null,
      "metadata": {
        "id": "ciXRdPf5D1M3",
        "outputId": "aad4ef44-42c6-4d37-e287-d5552a232f5c"
      },
      "outputs": [
        {
          "data": {
            "text/plain": [
              "array([[0.56140351, 0.43859649]])"
            ]
          },
          "execution_count": 18,
          "metadata": {},
          "output_type": "execute_result"
        }
      ],
      "source": [
        "mnb.predict_proba(test_vectors)"
      ]
    },
    {
      "cell_type": "code",
      "execution_count": null,
      "metadata": {
        "id": "6iOCJnILD1M4",
        "outputId": "5d3508e1-c261-487e-e743-acc855c93b70"
      },
      "outputs": [
        {
          "data": {
            "text/plain": [
              "0"
            ]
          },
          "execution_count": 19,
          "metadata": {},
          "output_type": "execute_result"
        }
      ],
      "source": [
        "prediction = mnb.predict(test_vectors)\n",
        "prediction[0]"
      ]
    },
    {
      "cell_type": "markdown",
      "metadata": {
        "id": "Hhrbj4uED1M4"
      },
      "source": [
        "# Load sklearn's: The 20 newsgroups text dataset and build N.B Classifier"
      ]
    },
    {
      "cell_type": "code",
      "execution_count": null,
      "metadata": {
        "id": "Bu_4heAED1M5"
      },
      "outputs": [],
      "source": [
        "# code for loading the dataset\n",
        "\n",
        "from sklearn.datasets import fetch_20newsgroups\n",
        "#newsgroups_train = fetch_20newsgroups(subset = 'train', remove=('headers', 'footers', 'quotes'))\n",
        "#newsgroups_test = fetch_20newsgroups(subset = 'test', remove=('headers', 'footers', 'quotes'))"
      ]
    },
    {
      "cell_type": "markdown",
      "metadata": {
        "id": "eEP-25gKD1M5"
      },
      "source": [
        "#### The real data lies in the 'filenames' and 'target' attributes. The target attribute is the integer index of the category:"
      ]
    },
    {
      "cell_type": "code",
      "execution_count": null,
      "metadata": {
        "id": "7tAKlyZmD1M6"
      },
      "outputs": [],
      "source": [
        "print('shape of train dataset: ',newsgroups_train.filenames.shape)\n",
        "print('shape of test dataset',newsgroups_test.filenames.shape)"
      ]
    },
    {
      "cell_type": "code",
      "execution_count": null,
      "metadata": {
        "id": "jcKNkL7tD1M6"
      },
      "outputs": [],
      "source": [
        "# to access target variable use\n",
        "print('target data : ',newsgroups_train.target)\n",
        "print('shape of target data', newsgroups_train.target.shape)\n",
        "print('Number of categories: ', len(newgroups_train.target_names))\n",
        "print('Name of categories: ', newsgroups_train.target_names)"
      ]
    },
    {
      "cell_type": "code",
      "execution_count": null,
      "metadata": {
        "id": "FS1gZ4YID1M7"
      },
      "outputs": [],
      "source": [
        "# To ACCESS DATA use\n",
        "# newsgroups_train.data\n",
        "# to print first instance\n",
        "newsgroups_train.data[0]"
      ]
    },
    {
      "cell_type": "markdown",
      "metadata": {
        "id": "cOUMdFj6D1M7"
      },
      "source": [
        "## Create the dictionary"
      ]
    },
    {
      "cell_type": "markdown",
      "metadata": {
        "id": "EMT6iHhAD1M8"
      },
      "source": [
        "## Vectorize the train and test set"
      ]
    },
    {
      "cell_type": "markdown",
      "metadata": {
        "id": "hXP2RMLCD1M8"
      },
      "source": [
        "## Fit the model"
      ]
    },
    {
      "cell_type": "markdown",
      "metadata": {
        "id": "Fpe60EFOD1M9"
      },
      "source": [
        "## Make Prediction"
      ]
    },
    {
      "cell_type": "markdown",
      "metadata": {
        "id": "hAtzIN8oD1M9"
      },
      "source": [
        "## Evaluate the model"
      ]
    },
    {
      "cell_type": "code",
      "execution_count": null,
      "metadata": {
        "id": "glaf9cm_D1M9"
      },
      "outputs": [],
      "source": [
        "from sklearn import metrics\n",
        "metrics.accuracy_score(newgroups_test.target, test_pred)\n",
        "metrics.f1_score(newsgroups_test.target, pred, average='macro')"
      ]
    }
  ],
  "metadata": {
    "kernelspec": {
      "display_name": "Python 3",
      "language": "python",
      "name": "python3"
    },
    "language_info": {
      "codemirror_mode": {
        "name": "ipython",
        "version": 3
      },
      "file_extension": ".py",
      "mimetype": "text/x-python",
      "name": "python",
      "nbconvert_exporter": "python",
      "pygments_lexer": "ipython3",
      "version": "3.8.3"
    },
    "colab": {
      "name": "Naive bayes Classifier.ipynb",
      "provenance": []
    }
  },
  "nbformat": 4,
  "nbformat_minor": 0
}