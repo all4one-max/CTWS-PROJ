{
 "cells": [
  {
   "cell_type": "markdown",
   "metadata": {},
   "source": [
    "### ONE VARIABLE LINEAR REGRESSION"
   ]
  },
  {
   "cell_type": "code",
   "execution_count": 1,
   "metadata": {},
   "outputs": [
    {
     "name": "stdout",
     "output_type": "stream",
     "text": [
      "0 0.7370702973591053 0.014547010110737297 1484.5865574086486\n",
      "1 1.1067954543515157 0.02187396295959641 457.8542575737672\n",
      "2 1.2922546649131115 0.025579224321293136 199.5099857255389\n",
      "3 1.385283255651245 0.027467789559144355 134.50591058200533\n",
      "4 1.4319472323843205 0.028445071981738963 118.1496934223995\n",
      "5 1.4553540088980408 0.028965240766478616 114.0341490603815\n",
      "6 1.4670946177201354 0.029256114126046697 112.99857731713657\n",
      "7 1.4729832982243762 0.029431969163807123 112.73798187568467\n",
      "8 1.4759365618962286 0.029550129024383066 112.6723843590911\n",
      "9 1.47741737554838 0.029639347874732384 112.65585181499745\n",
      "1.47741737554838 0.029639347874732384\n"
     ]
    }
   ],
   "source": [
    "import numpy as np\n",
    "import pandas as pd\n",
    "\n",
    "def step_gradient(points,learning_rate,m,c):\n",
    "    N=len(points)\n",
    "    slope_m,slope_c=0,0\n",
    "    for i in range(N):\n",
    "        x,y=points[i,0],points[i,1]\n",
    "        slope_m+=(-2/N)*(y-m*x-c)*(x)\n",
    "        slope_c+=(-2/N)*(y-m*x-c)\n",
    "    new_m=m-learning_rate*slope_m\n",
    "    new_c=c-learning_rate*slope_c\n",
    "    return new_m,new_c\n",
    "\n",
    "def gd(points,learning_rate,no_iterations):\n",
    "    m,c=0,0\n",
    "    for i in range(no_iterations):\n",
    "        m,c=step_gradient(points,learning_rate,m,c)\n",
    "        cst=cost(points,m,c)\n",
    "        print(i,m,c,cst)\n",
    "    return m,c\n",
    "\n",
    "def cost(points,m,c):\n",
    "    N=len(points)\n",
    "    cst=0\n",
    "    for i in range(N):\n",
    "        x,y=points[i,0],points[i,1]\n",
    "        cst+=(1/N)*((y-m*x-c)**2)\n",
    "    return cst\n",
    "\n",
    "def run():    \n",
    "    data=np.loadtxt(\"data.csv\",delimiter=',')\n",
    "    learning_rate=0.0001\n",
    "    no_iterations=10\n",
    "    m,c=gd(data,learning_rate,no_iterations)\n",
    "    print(m,c)\n",
    "run()"
   ]
  },
  {
   "cell_type": "markdown",
   "metadata": {},
   "source": [
    "### MULTI-VARIATE LINEAR REGRESSION"
   ]
  },
  {
   "cell_type": "code",
   "execution_count": 194,
   "metadata": {},
   "outputs": [],
   "source": [
    "from sklearn import datasets\n",
    "import numpy as np\n",
    "boston=datasets.load_boston()\n",
    "data=np.array(boston.data)\n",
    "output=np.array(boston.target)"
   ]
  },
  {
   "cell_type": "code",
   "execution_count": 195,
   "metadata": {},
   "outputs": [
    {
     "name": "stdout",
     "output_type": "stream",
     "text": [
      "88.9762 0.00632\n",
      "100.0 0.0\n",
      "27.74 0.46\n",
      "1.0 0.0\n",
      "0.871 0.385\n",
      "8.78 3.561\n",
      "100.0 2.9\n",
      "12.1265 1.1296\n",
      "24.0 1.0\n",
      "711.0 187.0\n",
      "22.0 12.6\n",
      "396.9 0.32\n",
      "37.97 1.73\n"
     ]
    },
    {
     "data": {
      "text/plain": [
       "array([[0.00000000e+00, 1.80000000e-01, 6.78152493e-02, ...,\n",
       "        2.87234043e-01, 1.00000000e+00, 8.96799117e-02],\n",
       "       [2.35922539e-04, 0.00000000e+00, 2.42302053e-01, ...,\n",
       "        5.53191489e-01, 1.00000000e+00, 2.04470199e-01],\n",
       "       [2.35697744e-04, 0.00000000e+00, 2.42302053e-01, ...,\n",
       "        5.53191489e-01, 9.89737254e-01, 6.34657837e-02],\n",
       "       ...,\n",
       "       [6.11892474e-04, 0.00000000e+00, 4.20454545e-01, ...,\n",
       "        8.93617021e-01, 1.00000000e+00, 1.07891832e-01],\n",
       "       [1.16072990e-03, 0.00000000e+00, 4.20454545e-01, ...,\n",
       "        8.93617021e-01, 9.91300620e-01, 1.31070640e-01],\n",
       "       [4.61841693e-04, 0.00000000e+00, 4.20454545e-01, ...,\n",
       "        8.93617021e-01, 1.00000000e+00, 1.69701987e-01]])"
      ]
     },
     "execution_count": 195,
     "metadata": {},
     "output_type": "execute_result"
    }
   ],
   "source": [
    "for j in range(len(data[0])):\n",
    "    mx = -1e9\n",
    "    mn = 1e9\n",
    "    for i in range(len(data)):\n",
    "#         print(i, j, data[i][j])\n",
    "        mx = max(mx, data[i][j])\n",
    "        mn = min(mn, data[i][j])\n",
    "    print(mx,mn)\n",
    "    for i in range(len(data)):\n",
    "        data[i][j] = (data[i][j] - mn)/(mx - mn)\n",
    "data"
   ]
  },
  {
   "cell_type": "code",
   "execution_count": 196,
   "metadata": {},
   "outputs": [],
   "source": [
    "from sklearn import model_selection\n",
    "x_train, x_test, y_train, y_test=model_selection.train_test_split(data, output)"
   ]
  },
  {
   "cell_type": "code",
   "execution_count": 197,
   "metadata": {},
   "outputs": [
    {
     "data": {
      "text/plain": [
       "array([[9.74149903e-04, 0.00000000e+00, 9.23387097e-01, ...,\n",
       "        6.91489362e-01, 9.52569469e-01, 4.47019868e-01],\n",
       "       [2.74109395e-01, 0.00000000e+00, 6.46627566e-01, ...,\n",
       "        8.08510638e-01, 1.00000000e+00, 7.32615894e-01],\n",
       "       [3.85613648e-03, 0.00000000e+00, 3.46041056e-01, ...,\n",
       "        6.17021277e-01, 9.98335771e-01, 2.27373068e-01],\n",
       "       ...,\n",
       "       [6.53572872e-02, 0.00000000e+00, 6.46627566e-01, ...,\n",
       "        8.08510638e-01, 9.92233597e-01, 2.36203091e-01],\n",
       "       [9.58976229e-04, 0.00000000e+00, 3.79398827e-01, ...,\n",
       "        7.02127660e-01, 9.84895860e-01, 1.04580574e-01],\n",
       "       [6.17624751e-04, 4.00000000e-01, 2.18108504e-01, ...,\n",
       "        5.31914894e-01, 9.91300620e-01, 6.70529801e-02]])"
      ]
     },
     "execution_count": 197,
     "metadata": {},
     "output_type": "execute_result"
    }
   ],
   "source": [
    "x_train"
   ]
  },
  {
   "cell_type": "code",
   "execution_count": 219,
   "metadata": {},
   "outputs": [
    {
     "name": "stdout",
     "output_type": "stream",
     "text": [
      "[ -2.46913595   2.63618293   1.00179351   2.65860142  -5.97066679\n",
      "  26.5302422   -0.33153351 -10.21292043   4.80476029  -5.10225976\n",
      "  -8.78894919   4.70174199 -16.02838977] 19.12671374980048\n"
     ]
    }
   ],
   "source": [
    "def batch_gradient(x, y, m, c, lr):\n",
    "    slope_m = np.array([0.0 for i in range(len(x[0]))])\n",
    "    slope_c = 0\n",
    "    N = len(x)\n",
    "    for i in range(len(x)):\n",
    "        prod = 0.0\n",
    "        for j in range(len(x[i])):\n",
    "            prod += (m[j] * x[i][j])\n",
    "        slope_c += ((-2/N) * (y[i] - prod - c))\n",
    "        for j in range(len(x[i])):\n",
    "            slope_m[j] += ((-2/N) * (y[i] - prod - c) * (x[i][j]))\n",
    "    m = m - lr * slope_m\n",
    "    c = c - lr * slope_c\n",
    "    return m, c\n",
    "\n",
    "def gradient_descent(x, y, itr, lr):\n",
    "    m = np.array([0.0 for i in range(len(x[0]))])\n",
    "    c = 0\n",
    "    for i in range(itr):\n",
    "        m, c = batch_gradient(x, y, m, c, lr)\n",
    "    return m, c        \n",
    "\n",
    "m, c = gradient_descent(x_train, y_train, 100000, 0.001)\n",
    "print(m, c)\n"
   ]
  },
  {
   "cell_type": "code",
   "execution_count": 222,
   "metadata": {},
   "outputs": [
    {
     "data": {
      "text/plain": [
       "[]"
      ]
     },
     "execution_count": 222,
     "metadata": {},
     "output_type": "execute_result"
    },
    {
     "data": {
      "image/png": "[encoded data removed]",
      "text/plain": [
       "<Figure size 432x288 with 1 Axes>"
      ]
     },
     "metadata": {
      "needs_background": "light"
     },
     "output_type": "display_data"
    }
   ],
   "source": [
    "import matplotlib.pyplot as plt\n",
    "\n",
    "def predict(x):\n",
    "    y_pred = []\n",
    "    for i in range(len(x)):\n",
    "        output = c\n",
    "        for j in range(len(x[i])):\n",
    "            output += m[j] * x[i][j]\n",
    "        y_pred.append(output)\n",
    "    return y_pred\n",
    "    \n",
    "y_pred_test = predict(x_test)\n",
    "y_pred_train = predict(x_train)\n",
    "\n",
    "plt.scatter(y_train, y_pred_train)\n",
    "plt.plot()"
   ]
  },
  {
   "cell_type": "code",
   "execution_count": 225,
   "metadata": {},
   "outputs": [
    {
     "data": {
      "text/plain": [
       "[]"
      ]
     },
     "execution_count": 225,
     "metadata": {},
     "output_type": "execute_result"
    },
    {
     "data": {
      "image/png": "[encoded data removed]",
      "text/plain": [
       "<Figure size 432x288 with 1 Axes>"
      ]
     },
     "metadata": {
      "needs_background": "light"
     },
     "output_type": "display_data"
    }
   ],
   "source": [
    "plt.scatter(y_test, y_pred_test)\n",
    "plt.plot()"
   ]
  }
 ],
 "metadata": {
  "kernelspec": {
   "display_name": "Python 3",
   "language": "python",
   "name": "python3"
  },
  "language_info": {
   "codemirror_mode": {
    "name": "ipython",
    "version": 3
   },
   "file_extension": ".py",
   "mimetype": "text/x-python",
   "name": "python",
   "nbconvert_exporter": "python",
   "pygments_lexer": "ipython3",
   "version": "3.7.3"
  }
 },
 "nbformat": 4,
 "nbformat_minor": 2
}
