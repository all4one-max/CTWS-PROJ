{
 "cells": [
  {
   "cell_type": "markdown",
   "metadata": {},
   "source": [
    "### Dependencies"
   ]
  },
  {
   "cell_type": "code",
   "execution_count": 1,
   "metadata": {},
   "outputs": [],
   "source": [
    "from sklearn import datasets\n",
    "import numpy as np"
   ]
  },
  {
   "cell_type": "code",
   "execution_count": 17,
   "metadata": {},
   "outputs": [
    {
     "name": "stdout",
     "output_type": "stream",
     "text": [
      "100 100\n"
     ]
    }
   ],
   "source": [
    "iris = datasets.load_iris()\n",
    "x = np.array(iris.data)\n",
    "y = np.array(iris.target)\n",
    "\n",
    "note = -1\n",
    "for i in range(len(y)):\n",
    "    if(y[i] == 2):\n",
    "        note = i\n",
    "        break\n",
    "        \n",
    "x = x[:100]\n",
    "y = y[:100]\n",
    "print(len(x), len(y))"
   ]
  },
  {
   "cell_type": "code",
   "execution_count": 18,
   "metadata": {},
   "outputs": [
    {
     "name": "stdout",
     "output_type": "stream",
     "text": [
      "75 25 75 25\n"
     ]
    }
   ],
   "source": [
    "from sklearn import model_selection\n",
    "x_train, x_test, y_train, y_test=model_selection.train_test_split(x, y)\n",
    "print(len(x_train), len(x_test), len(y_train), len(y_test))"
   ]
  },
  {
   "cell_type": "code",
   "execution_count": 19,
   "metadata": {},
   "outputs": [
    {
     "name": "stdout",
     "output_type": "stream",
     "text": [
      "[-0.52412683 -2.04641467  3.06407246  1.37609723] -0.3595696107307001\n"
     ]
    }
   ],
   "source": [
    "def solve_itr(x, y, m, c, lr):\n",
    "    slope_m = np.array([0.0 for i in range(len(x[0]))])\n",
    "    slope_c = 0\n",
    "    N = len(x)\n",
    "    for i in range(len(x)):\n",
    "        prod = 0.0\n",
    "        for j in range(len(x[i])):\n",
    "            prod += (m[j] * x[i][j])\n",
    "        prod += c\n",
    "        temp = (1/(1 + np.exp(-1*prod)))\n",
    "        slope_c += ((1/N) * (y[i] - temp))\n",
    "        for j in range(len(x[i])):\n",
    "            slope_m[j] += ((1/N) * (y[i] - temp) * (x[i][j]))\n",
    "    m = m + lr * slope_m\n",
    "    c = c + lr * slope_c\n",
    "    return m, c\n",
    "\n",
    "def gradient_ascent(x_train, y_train, num_itr, learning_rate):\n",
    "    m = np.array([0.0 for i in range(len(x_train[0]))])\n",
    "    c = 0.0\n",
    "    for i in range(num_itr):\n",
    "        m, c =  solve_itr(x_train, y_train, m, c, learning_rate)\n",
    "    return m, c\n",
    "\n",
    "m, c = gradient_ascent(x_train, y_train, 1000, 0.1)\n",
    "print(m, c)"
   ]
  },
  {
   "cell_type": "code",
   "execution_count": 30,
   "metadata": {},
   "outputs": [
    {
     "name": "stdout",
     "output_type": "stream",
     "text": [
      "accuracy on training data 100.0\n",
      "accuracy on testing data 100.0\n"
     ]
    }
   ],
   "source": [
    "import matplotlib.pyplot as plt\n",
    "\n",
    "def predict(x):\n",
    "    y_pred = []\n",
    "    for i in range(len(x)):\n",
    "        output = c\n",
    "        for j in range(len(x[i])):\n",
    "            output += m[j] * x[i][j]\n",
    "        val = 1/(1+np.exp(-1*output))\n",
    "        val = round(val)\n",
    "        y_pred.append(val)\n",
    "    return y_pred\n",
    "    \n",
    "y_pred_test = predict(x_test)\n",
    "y_pred_train = predict(x_train)\n",
    "\n",
    "cnt = 0\n",
    "for i in range(len(y_pred_train)):\n",
    "    if(y_pred_train[i] == y_train[i]):\n",
    "        cnt+=1\n",
    "print(\"accuracy on training data\", (cnt/len(x_train))*100)\n",
    "\n",
    "cnt = 0\n",
    "for i in range(len(y_pred_test)):\n",
    "    if(y_pred_test[i] == y_test[i]):\n",
    "        cnt+=1\n",
    "print(\"accuracy on testing data\", (cnt/len(y_test))*100)"
   ]
  }
 ],
 "metadata": {
  "kernelspec": {
   "display_name": "Python 3",
   "language": "python",
   "name": "python3"
  },
  "language_info": {
   "codemirror_mode": {
    "name": "ipython",
    "version": 3
   },
   "file_extension": ".py",
   "mimetype": "text/x-python",
   "name": "python",
   "nbconvert_exporter": "python",
   "pygments_lexer": "ipython3",
   "version": "3.7.3"
  }
 },
 "nbformat": 4,
 "nbformat_minor": 2
}
