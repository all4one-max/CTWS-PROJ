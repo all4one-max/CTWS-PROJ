{
  "nbformat": 4,
  "nbformat_minor": 0,
  "metadata": {
    "colab": {
      "name": "R basics + ML.ipynb",
      "provenance": [],
      "collapsed_sections": []
    },
    "kernelspec": {
      "name": "ir",
      "display_name": "R"
    },
    "language_info": {
      "name": "R"
    }
  },
  "cells": [
    {
      "cell_type": "code",
      "execution_count": 2,
      "metadata": {
        "colab": {
          "base_uri": "https://localhost:8080/"
        },
        "id": "9Igm15-ivdHu",
        "outputId": "ad3d0923-11e4-43b8-9a19-ec813ed577a8"
      },
      "outputs": [
        {
          "output_type": "stream",
          "name": "stderr",
          "text": [
            "Installing package into ‘/usr/local/lib/R/site-library’\n",
            "(as ‘lib’ is unspecified)\n",
            "\n",
            "Installing package into ‘/usr/local/lib/R/site-library’\n",
            "(as ‘lib’ is unspecified)\n",
            "\n",
            "Installing package into ‘/usr/local/lib/R/site-library’\n",
            "(as ‘lib’ is unspecified)\n",
            "\n"
          ]
        }
      ],
      "source": [
        "install.packages(\"tidyverse\")\n",
        "install.packages(\"ggplot2\")\n",
        "install.packages(\"dplyr\")\n"
      ]
    },
    {
      "cell_type": "code",
      "source": [
        "library(tidyverse)\n",
        "library(ggplot2)\n",
        "library(dplyr)"
      ],
      "metadata": {
        "colab": {
          "base_uri": "https://localhost:8080/"
        },
        "id": "aazuyoG7vmA0",
        "outputId": "e2555be4-aa66-4fa7-de30-706aef990df7"
      },
      "execution_count": 1,
      "outputs": [
        {
          "output_type": "stream",
          "name": "stderr",
          "text": [
            "Warning message in system(\"timedatectl\", intern = TRUE):\n",
            "“running command 'timedatectl' had status 1”\n",
            "── \u001b[1mAttaching packages\u001b[22m ─────────────────────────────────────── tidyverse 1.3.1 ──\n",
            "\n",
            "\u001b[32m✔\u001b[39m \u001b[34mggplot2\u001b[39m 3.3.5     \u001b[32m✔\u001b[39m \u001b[34mpurrr  \u001b[39m 0.3.4\n",
            "\u001b[32m✔\u001b[39m \u001b[34mtibble \u001b[39m 3.1.6     \u001b[32m✔\u001b[39m \u001b[34mdplyr  \u001b[39m 1.0.8\n",
            "\u001b[32m✔\u001b[39m \u001b[34mtidyr  \u001b[39m 1.2.0     \u001b[32m✔\u001b[39m \u001b[34mstringr\u001b[39m 1.4.0\n",
            "\u001b[32m✔\u001b[39m \u001b[34mreadr  \u001b[39m 2.1.2     \u001b[32m✔\u001b[39m \u001b[34mforcats\u001b[39m 0.5.1\n",
            "\n",
            "── \u001b[1mConflicts\u001b[22m ────────────────────────────────────────── tidyverse_conflicts() ──\n",
            "\u001b[31m✖\u001b[39m \u001b[34mdplyr\u001b[39m::\u001b[32mfilter()\u001b[39m masks \u001b[34mstats\u001b[39m::filter()\n",
            "\u001b[31m✖\u001b[39m \u001b[34mdplyr\u001b[39m::\u001b[32mlag()\u001b[39m    masks \u001b[34mstats\u001b[39m::lag()\n",
            "\n"
          ]
        }
      ]
    },
    {
      "cell_type": "code",
      "source": [
        "x <- c(5,7,9)\n",
        "y <- c(6,3,4)\n",
        "z <- cbind(x,y)\n",
        "print(z)\n",
        "\n",
        "w <- rbind(z, z)\n",
        "print(w)\n",
        "\n",
        "y <- matrix(c(5,7,9,6,3,4), nrow = 2)\n",
        "print(y)\n",
        "\n",
        "y <- matrix(c(1,3,0,9,5,-1), nrow = 3)\n",
        "print(y)\n",
        "\n",
        "y <- matrix(c(1,3,0,9,5,-1), nrow = 3, byrow = T)\n",
        "print(y)"
      ],
      "metadata": {
        "colab": {
          "base_uri": "https://localhost:8080/"
        },
        "id": "-ZBLB27JX0eH",
        "outputId": "26cb5291-17e3-4531-b9cd-2e4a05372d65"
      },
      "execution_count": 6,
      "outputs": [
        {
          "output_type": "stream",
          "name": "stdout",
          "text": [
            "     x y\n",
            "[1,] 5 6\n",
            "[2,] 7 3\n",
            "[3,] 9 4\n",
            "     x y\n",
            "[1,] 5 6\n",
            "[2,] 7 3\n",
            "[3,] 9 4\n",
            "[4,] 5 6\n",
            "[5,] 7 3\n",
            "[6,] 9 4\n",
            "     [,1] [,2] [,3]\n",
            "[1,]    5    9    3\n",
            "[2,]    7    6    4\n",
            "     [,1] [,2]\n",
            "[1,]    1    9\n",
            "[2,]    3    5\n",
            "[3,]    0   -1\n",
            "     [,1] [,2]\n",
            "[1,]    1    3\n",
            "[2,]    0    9\n",
            "[3,]    5   -1\n"
          ]
        }
      ]
    },
    {
      "cell_type": "markdown",
      "source": [
        "### Linear Regression in R"
      ],
      "metadata": {
        "id": "GZOxh88Jabes"
      }
    },
    {
      "cell_type": "code",
      "source": [
        "data <- read.csv(\"lrex.csv\")\n",
        "View(data)\n",
        "attach(data)\n",
        "dim(data)"
      ],
      "metadata": {
        "colab": {
          "base_uri": "https://localhost:8080/",
          "height": 453
        },
        "id": "EhQAGzw3cLRN",
        "outputId": "9a25d1ec-9c12-480b-b589-3d5c0297ad16"
      },
      "execution_count": 28,
      "outputs": [
        {
          "output_type": "display_data",
          "data": {
            "text/plain": [
              "  ID CHD Smoking Age Fat Exercise Num\n",
              "1 1   4   3      25  25  30        1 \n",
              "2 2  15   5      34  34  25        3 \n",
              "3 3  19   8      56  40   5        5 \n",
              "4 4  21   9      60  50   5        7 \n",
              "5 5  26  11      55  51   8       10 \n",
              "6 6  11   4      30  26  26        3 \n",
              "7 7  18   5      34  34  10        2 \n",
              "8 8   6   4      26   8  32       10 "
            ],
            "text/html": [
              "<table class=\"dataframe\">\n",
              "<caption>A data.frame: 8 × 7</caption>\n",
              "<thead>\n",
              "\t<tr><th scope=col>ID</th><th scope=col>CHD</th><th scope=col>Smoking</th><th scope=col>Age</th><th scope=col>Fat</th><th scope=col>Exercise</th><th scope=col>Num</th></tr>\n",
              "\t<tr><th scope=col>&lt;int&gt;</th><th scope=col>&lt;int&gt;</th><th scope=col>&lt;int&gt;</th><th scope=col>&lt;int&gt;</th><th scope=col>&lt;int&gt;</th><th scope=col>&lt;int&gt;</th><th scope=col>&lt;int&gt;</th></tr>\n",
              "</thead>\n",
              "<tbody>\n",
              "\t<tr><td>1</td><td> 4</td><td> 3</td><td>25</td><td>25</td><td>30</td><td> 1</td></tr>\n",
              "\t<tr><td>2</td><td>15</td><td> 5</td><td>34</td><td>34</td><td>25</td><td> 3</td></tr>\n",
              "\t<tr><td>3</td><td>19</td><td> 8</td><td>56</td><td>40</td><td> 5</td><td> 5</td></tr>\n",
              "\t<tr><td>4</td><td>21</td><td> 9</td><td>60</td><td>50</td><td> 5</td><td> 7</td></tr>\n",
              "\t<tr><td>5</td><td>26</td><td>11</td><td>55</td><td>51</td><td> 8</td><td>10</td></tr>\n",
              "\t<tr><td>6</td><td>11</td><td> 4</td><td>30</td><td>26</td><td>26</td><td> 3</td></tr>\n",
              "\t<tr><td>7</td><td>18</td><td> 5</td><td>34</td><td>34</td><td>10</td><td> 2</td></tr>\n",
              "\t<tr><td>8</td><td> 6</td><td> 4</td><td>26</td><td> 8</td><td>32</td><td>10</td></tr>\n",
              "</tbody>\n",
              "</table>\n"
            ],
            "text/markdown": "\nA data.frame: 8 × 7\n\n| ID &lt;int&gt; | CHD &lt;int&gt; | Smoking &lt;int&gt; | Age &lt;int&gt; | Fat &lt;int&gt; | Exercise &lt;int&gt; | Num &lt;int&gt; |\n|---|---|---|---|---|---|---|\n| 1 |  4 |  3 | 25 | 25 | 30 |  1 |\n| 2 | 15 |  5 | 34 | 34 | 25 |  3 |\n| 3 | 19 |  8 | 56 | 40 |  5 |  5 |\n| 4 | 21 |  9 | 60 | 50 |  5 |  7 |\n| 5 | 26 | 11 | 55 | 51 |  8 | 10 |\n| 6 | 11 |  4 | 30 | 26 | 26 |  3 |\n| 7 | 18 |  5 | 34 | 34 | 10 |  2 |\n| 8 |  6 |  4 | 26 |  8 | 32 | 10 |\n\n",
            "text/latex": "A data.frame: 8 × 7\n\\begin{tabular}{lllllll}\n ID & CHD & Smoking & Age & Fat & Exercise & Num\\\\\n <int> & <int> & <int> & <int> & <int> & <int> & <int>\\\\\n\\hline\n\t 1 &  4 &  3 & 25 & 25 & 30 &  1\\\\\n\t 2 & 15 &  5 & 34 & 34 & 25 &  3\\\\\n\t 3 & 19 &  8 & 56 & 40 &  5 &  5\\\\\n\t 4 & 21 &  9 & 60 & 50 &  5 &  7\\\\\n\t 5 & 26 & 11 & 55 & 51 &  8 & 10\\\\\n\t 6 & 11 &  4 & 30 & 26 & 26 &  3\\\\\n\t 7 & 18 &  5 & 34 & 34 & 10 &  2\\\\\n\t 8 &  6 &  4 & 26 &  8 & 32 & 10\\\\\n\\end{tabular}\n"
          },
          "metadata": {}
        },
        {
          "output_type": "stream",
          "name": "stderr",
          "text": [
            "The following objects are masked from data (pos = 3):\n",
            "\n",
            "    Age, CHD, Exercise, Fat, ID, Num, Smoking\n",
            "\n",
            "\n"
          ]
        },
        {
          "output_type": "display_data",
          "data": {
            "text/html": [
              "<style>\n",
              ".list-inline {list-style: none; margin:0; padding: 0}\n",
              ".list-inline>li {display: inline-block}\n",
              ".list-inline>li:not(:last-child)::after {content: \"\\00b7\"; padding: 0 .5ex}\n",
              "</style>\n",
              "<ol class=list-inline><li>8</li><li>7</li></ol>\n"
            ],
            "text/markdown": "1. 8\n2. 7\n\n\n",
            "text/latex": "\\begin{enumerate*}\n\\item 8\n\\item 7\n\\end{enumerate*}\n",
            "text/plain": [
              "[1] 8 7"
            ]
          },
          "metadata": {}
        }
      ]
    },
    {
      "cell_type": "code",
      "source": [
        "data %>%\n",
        "  ggplot(aes(Smoking, CHD)) +\n",
        "  geom_point() +\n",
        "  geom_smooth(method = lm) "
      ],
      "metadata": {
        "colab": {
          "base_uri": "https://localhost:8080/",
          "height": 472
        },
        "id": "LumBKf6Btdx5",
        "outputId": "e6ab18e2-33fb-47af-fcc8-aee067053a9f"
      },
      "execution_count": 29,
      "outputs": [
        {
          "output_type": "stream",
          "name": "stderr",
          "text": [
            "`geom_smooth()` using formula 'y ~ x'\n",
            "\n"
          ]
        },
        {
          "output_type": "display_data",
          "data": {
            "text/plain": [
              "plot without title"
            ],
            "image/png": "[encoded data removed]"
          },
          "metadata": {
            "image/png": {
              "width": 420,
              "height": 420
            }
          }
        }
      ]
    },
    {
      "cell_type": "code",
      "source": [
        "model <- lm(data = data, CHD ~ Smoking + Fat)\n",
        "print(model)\n",
        "summary(model)"
      ],
      "metadata": {
        "colab": {
          "base_uri": "https://localhost:8080/",
          "height": 450
        },
        "id": "t8BzrLcMu70I",
        "outputId": "1ffea37b-e377-4c68-94a1-85ec6a825cb9"
      },
      "execution_count": 30,
      "outputs": [
        {
          "output_type": "stream",
          "name": "stdout",
          "text": [
            "\n",
            "Call:\n",
            "lm(formula = CHD ~ Smoking + Fat, data = data)\n",
            "\n",
            "Coefficients:\n",
            "(Intercept)      Smoking          Fat  \n",
            "     -1.593        1.386        0.242  \n",
            "\n"
          ]
        },
        {
          "output_type": "display_data",
          "data": {
            "text/plain": [
              "\n",
              "Call:\n",
              "lm(formula = CHD ~ Smoking + Fat, data = data)\n",
              "\n",
              "Residuals:\n",
              "       1        2        3        4        5        6        7        8 \n",
              "-4.61330  1.43776 -0.17080 -1.97616  0.01074  0.75917  4.43776  0.11483 \n",
              "\n",
              "Coefficients:\n",
              "            Estimate Std. Error t value Pr(>|t|)\n",
              "(Intercept)  -1.5929     2.9831  -0.534    0.616\n",
              "Smoking       1.3856     0.7819   1.772    0.137\n",
              "Fat           0.2420     0.1576   1.535    0.185\n",
              "\n",
              "Residual standard error: 3.084 on 5 degrees of freedom\n",
              "Multiple R-squared:  0.8811,\tAdjusted R-squared:  0.8335 \n",
              "F-statistic: 18.52 on 2 and 5 DF,  p-value: 0.004877\n"
            ]
          },
          "metadata": {}
        }
      ]
    },
    {
      "cell_type": "code",
      "source": [
        "predictions <- predict(model, data)\n",
        "predictions"
      ],
      "metadata": {
        "colab": {
          "base_uri": "https://localhost:8080/",
          "height": 52
        },
        "id": "XpGPHdFmvGny",
        "outputId": "2067aa5d-e5b9-481d-9d18-20f2103f0e3b"
      },
      "execution_count": 31,
      "outputs": [
        {
          "output_type": "display_data",
          "data": {
            "text/html": [
              "<style>\n",
              ".dl-inline {width: auto; margin:0; padding: 0}\n",
              ".dl-inline>dt, .dl-inline>dd {float: none; width: auto; display: inline-block}\n",
              ".dl-inline>dt::after {content: \":\\0020\"; padding-right: .5ex}\n",
              ".dl-inline>dt:not(:first-of-type) {padding-left: .5ex}\n",
              "</style><dl class=dl-inline><dt>1</dt><dd>8.61329599834747</dd><dt>2</dt><dd>13.5622396401152</dd><dt>3</dt><dd>19.1707960844169</dd><dt>4</dt><dd>22.9761645187574</dd><dt>5</dt><dd>25.9892585409518</dd><dt>6</dt><dd>10.240833610668</dd><dt>7</dt><dd>13.5622396401152</dd><dt>8</dt><dd>5.88517196662803</dd></dl>\n"
            ],
            "text/markdown": "1\n:   8.613295998347472\n:   13.56223964011523\n:   19.17079608441694\n:   22.97616451875745\n:   25.98925854095186\n:   10.2408336106687\n:   13.56223964011528\n:   5.88517196662803\n\n",
            "text/latex": "\\begin{description*}\n\\item[1] 8.61329599834747\n\\item[2] 13.5622396401152\n\\item[3] 19.1707960844169\n\\item[4] 22.9761645187574\n\\item[5] 25.9892585409518\n\\item[6] 10.240833610668\n\\item[7] 13.5622396401152\n\\item[8] 5.88517196662803\n\\end{description*}\n",
            "text/plain": [
              "        1         2         3         4         5         6         7         8 \n",
              " 8.613296 13.562240 19.170796 22.976165 25.989259 10.240834 13.562240  5.885172 "
            ]
          },
          "metadata": {}
        }
      ]
    },
    {
      "cell_type": "code",
      "source": [
        "Smoking <- 10\n",
        "Fat <- 30\n",
        "df = data.frame(Smoking, Fat)\n",
        "df"
      ],
      "metadata": {
        "colab": {
          "base_uri": "https://localhost:8080/",
          "height": 130
        },
        "id": "43LfzHxEwKc7",
        "outputId": "76810e5f-3fb6-41c2-aa4c-b5f4745e205b"
      },
      "execution_count": 35,
      "outputs": [
        {
          "output_type": "display_data",
          "data": {
            "text/html": [
              "<table class=\"dataframe\">\n",
              "<caption>A data.frame: 1 × 2</caption>\n",
              "<thead>\n",
              "\t<tr><th scope=col>Smoking</th><th scope=col>Fat</th></tr>\n",
              "\t<tr><th scope=col>&lt;dbl&gt;</th><th scope=col>&lt;dbl&gt;</th></tr>\n",
              "</thead>\n",
              "<tbody>\n",
              "\t<tr><td>10</td><td>30</td></tr>\n",
              "</tbody>\n",
              "</table>\n"
            ],
            "text/markdown": "\nA data.frame: 1 × 2\n\n| Smoking &lt;dbl&gt; | Fat &lt;dbl&gt; |\n|---|---|\n| 10 | 30 |\n\n",
            "text/latex": "A data.frame: 1 × 2\n\\begin{tabular}{ll}\n Smoking & Fat\\\\\n <dbl> & <dbl>\\\\\n\\hline\n\t 10 & 30\\\\\n\\end{tabular}\n",
            "text/plain": [
              "  Smoking Fat\n",
              "1 10      30 "
            ]
          },
          "metadata": {}
        }
      ]
    },
    {
      "cell_type": "code",
      "source": [
        "prediction <- predict(model, df)\n",
        "prediction"
      ],
      "metadata": {
        "colab": {
          "base_uri": "https://localhost:8080/",
          "height": 34
        },
        "id": "q39__3QOvtqR",
        "outputId": "a51b6abc-2956-48bc-a954-1b8a5278a2ba"
      },
      "execution_count": 36,
      "outputs": [
        {
          "output_type": "display_data",
          "data": {
            "text/html": [
              "<strong>1:</strong> 19.522096879698"
            ],
            "text/markdown": "**1:** 19.522096879698",
            "text/latex": "\\textbf{1:} 19.522096879698",
            "text/plain": [
              "      1 \n",
              "19.5221 "
            ]
          },
          "metadata": {}
        }
      ]
    },
    {
      "cell_type": "markdown",
      "source": [
        "## SVM in R"
      ],
      "metadata": {
        "id": "EiEhBGvPwhFK"
      }
    },
    {
      "cell_type": "code",
      "source": [
        ""
      ],
      "metadata": {
        "id": "jma4NpFqwiog"
      },
      "execution_count": null,
      "outputs": []
    }
  ]
}