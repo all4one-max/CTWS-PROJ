{
  "nbformat": 4,
  "nbformat_minor": 0,
  "metadata": {
    "colab": {
      "name": "Spark Mongo Queries.ipynb",
      "provenance": [],
      "collapsed_sections": []
    },
    "kernelspec": {
      "name": "python3",
      "display_name": "Python 3"
    },
    "language_info": {
      "name": "python"
    }
  },
  "cells": [
    {
      "cell_type": "code",
      "source": [
        "!apt-get install openjdk-11-jdk-headless -qq\n",
        "!wget -q https://dlcdn.apache.org/spark/spark-3.2.1/spark-3.2.1-bin-hadoop3.2.tgz\n",
        "!tar -xf spark-3.2.1-bin-hadoop3.2.tgz\n",
        "!pip install -q findspark\n",
        "\n",
        "import os\n",
        "os.environ[\"JAVA_HOME\"] = \"/usr/lib/jvm/java-11-openjdk-amd64\"\n",
        "os.environ[\"SPARK_HOME\"] = \"/content/spark-3.2.1-bin-hadoop3.2\"\n",
        "\n",
        "import findspark\n",
        "findspark.init()\n",
        "from pyspark.sql import SparkSession\n",
        "spark = SparkSession.builder.master(\"local[*]\").appName(\"DataFrame\").getOrCreate()\n",
        "# sc = spark.sparkContext\n"
      ],
      "metadata": {
        "id": "SX-vcysh7Xw2"
      },
      "execution_count": 1,
      "outputs": []
    },
    {
      "cell_type": "code",
      "source": [
        "student_list_1 = [(1, \"Manjot\", 88, 60), (2, \"Saurav\", 92, 73), (3, \"Sarv\", 90, 81)]\n",
        "print(student_list_1)\n",
        "\n",
        "# from pyspark.sql.types import StructType, StructField, IntegerType, StringType\n",
        "\n",
        "# student_schema = StructType([\n",
        "#                              StructField(\"Roll_Number\", IntegerType(), True),\n",
        "#                              StructField(\"Name\", StringType(), True),\n",
        "#                              StructField(\"Subject1_Marks\", IntegerType(), True),\n",
        "#                              StructField(\"Subject2_Marks\", IntegerType(), True)\n",
        "\n",
        "# ])\n",
        "student_schema = [\"Roll_Number\", \"Name\", \"Maths\", \"Physics\"]\n",
        "student_df_11 = spark.createDataFrame(student_list_1, schema=student_schema)\n",
        "student_df_11.show(10)"
      ],
      "metadata": {
        "colab": {
          "base_uri": "https://localhost:8080/"
        },
        "id": "vetIhvtl45QV",
        "outputId": "62a4f6cb-348c-4ebb-a087-2b6c83056dc1"
      },
      "execution_count": 14,
      "outputs": [
        {
          "output_type": "stream",
          "name": "stdout",
          "text": [
            "[(1, 'Manjot', 88, 60), (2, 'Saurav', 92, 73), (3, 'Sarv', 90, 81)]\n",
            "+-----------+------+-----+-------+\n",
            "|Roll_Number|  Name|Maths|Physics|\n",
            "+-----------+------+-----+-------+\n",
            "|          1|Manjot|   88|     60|\n",
            "|          2|Saurav|   92|     73|\n",
            "|          3|  Sarv|   90|     81|\n",
            "+-----------+------+-----+-------+\n",
            "\n"
          ]
        }
      ]
    },
    {
      "cell_type": "code",
      "source": [
        "student_df_11.agg({\"Maths\": 'avg'}).show()\n",
        "student_df_11.agg({\"Physics\": 'avg'}).show()"
      ],
      "metadata": {
        "colab": {
          "base_uri": "https://localhost:8080/"
        },
        "id": "E5TS0NT97xNh",
        "outputId": "69b5ad7c-6305-4ec9-d4e1-19504cf49750"
      },
      "execution_count": 15,
      "outputs": [
        {
          "output_type": "stream",
          "name": "stdout",
          "text": [
            "+----------+\n",
            "|avg(Maths)|\n",
            "+----------+\n",
            "|      90.0|\n",
            "+----------+\n",
            "\n",
            "+-----------------+\n",
            "|     avg(Physics)|\n",
            "+-----------------+\n",
            "|71.33333333333333|\n",
            "+-----------------+\n",
            "\n"
          ]
        }
      ]
    },
    {
      "cell_type": "code",
      "source": [
        "from pyspark.sql.functions import *\n",
        "student_df_11.select(avg(\"Maths\")).collect()"
      ],
      "metadata": {
        "colab": {
          "base_uri": "https://localhost:8080/"
        },
        "id": "yDFCnnIOiIT4",
        "outputId": "55d242bd-21a5-4bde-d117-14641e975608"
      },
      "execution_count": 17,
      "outputs": [
        {
          "output_type": "execute_result",
          "data": {
            "text/plain": [
              "[Row(avg(Maths)=90.0)]"
            ]
          },
          "metadata": {},
          "execution_count": 17
        }
      ]
    },
    {
      "cell_type": "code",
      "source": [
        "from pyspark.sql.functions import when\n",
        "student_df_11 = student_df_11.withColumn(\"Maths\", when(student_df_11.Name == \"Sarv\", 99).otherwise(student_df_11.Maths))\n",
        "student_df_11.show()"
      ],
      "metadata": {
        "colab": {
          "base_uri": "https://localhost:8080/"
        },
        "id": "gSTuKQNO-lI7",
        "outputId": "4e14b590-b160-414f-9119-157635de72a5"
      },
      "execution_count": 18,
      "outputs": [
        {
          "output_type": "stream",
          "name": "stdout",
          "text": [
            "+-----------+------+-----+-------+\n",
            "|Roll_Number|  Name|Maths|Physics|\n",
            "+-----------+------+-----+-------+\n",
            "|          1|Manjot|   88|     60|\n",
            "|          2|Saurav|   92|     73|\n",
            "|          3|  Sarv|   99|     81|\n",
            "+-----------+------+-----+-------+\n",
            "\n"
          ]
        }
      ]
    },
    {
      "cell_type": "code",
      "source": [
        "newRow = spark.createDataFrame([(4, \"Mitansh\", 90, 0)], schema = student_schema)\n",
        "student_df_11 = student_df_11.union(newRow)\n",
        "student_df_11.show()"
      ],
      "metadata": {
        "colab": {
          "base_uri": "https://localhost:8080/"
        },
        "id": "mhO4yFo-8cI-",
        "outputId": "ef9bb2c4-93e8-45f6-f2e1-80aeed53887d"
      },
      "execution_count": 19,
      "outputs": [
        {
          "output_type": "stream",
          "name": "stdout",
          "text": [
            "+-----------+-------+-----+-------+\n",
            "|Roll_Number|   Name|Maths|Physics|\n",
            "+-----------+-------+-----+-------+\n",
            "|          1| Manjot|   88|     60|\n",
            "|          2| Saurav|   92|     73|\n",
            "|          3|   Sarv|   99|     81|\n",
            "|          4|Mitansh|   90|      0|\n",
            "+-----------+-------+-----+-------+\n",
            "\n"
          ]
        }
      ]
    }
  ]
}