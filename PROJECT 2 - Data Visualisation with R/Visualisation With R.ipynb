{
 "cells": [
  {
   "cell_type": "code",
   "execution_count": 1,
   "metadata": {
    "_execution_state": "idle",
    "_kg_hide-input": true,
    "_kg_hide-output": true,
    "_uuid": "3b0742e41e9007ba8c994c4b473ce64052011103"
   },
   "outputs": [
    {
     "name": "stderr",
     "output_type": "stream",
     "text": [
      "-- \u001b[1mAttaching packages\u001b[22m ------------------------------------------------------------------------------- tidyverse 1.3.1 --\n",
      "\n",
      "\u001b[32mv\u001b[39m \u001b[34mggplot2\u001b[39m 3.3.5     \u001b[32mv\u001b[39m \u001b[34mpurrr  \u001b[39m 0.3.4\n",
      "\u001b[32mv\u001b[39m \u001b[34mtibble \u001b[39m 3.1.6     \u001b[32mv\u001b[39m \u001b[34mdplyr  \u001b[39m 1.0.8\n",
      "\u001b[32mv\u001b[39m \u001b[34mtidyr  \u001b[39m 1.2.0     \u001b[32mv\u001b[39m \u001b[34mstringr\u001b[39m 1.4.0\n",
      "\u001b[32mv\u001b[39m \u001b[34mreadr  \u001b[39m 2.1.2     \u001b[32mv\u001b[39m \u001b[34mforcats\u001b[39m 0.5.1\n",
      "\n",
      "-- \u001b[1mConflicts\u001b[22m ---------------------------------------------------------------------------------- tidyverse_conflicts() --\n",
      "\u001b[31mx\u001b[39m \u001b[34mdplyr\u001b[39m::\u001b[32mfilter()\u001b[39m masks \u001b[34mstats\u001b[39m::filter()\n",
      "\u001b[31mx\u001b[39m \u001b[34mdplyr\u001b[39m::\u001b[32mlag()\u001b[39m    masks \u001b[34mstats\u001b[39m::lag()\n",
      "\n",
      "\n",
      "Attaching package: 'MASS'\n",
      "\n",
      "\n",
      "The following object is masked from 'package:dplyr':\n",
      "\n",
      "    select\n",
      "\n",
      "\n",
      "\n",
      "Attaching package: 'scales'\n",
      "\n",
      "\n",
      "The following object is masked from 'package:purrr':\n",
      "\n",
      "    discard\n",
      "\n",
      "\n",
      "The following object is masked from 'package:readr':\n",
      "\n",
      "    col_factor\n",
      "\n",
      "\n",
      "\n",
      "Attaching package: 'reshape2'\n",
      "\n",
      "\n",
      "The following object is masked from 'package:tidyr':\n",
      "\n",
      "    smiths\n",
      "\n",
      "\n",
      "\n",
      "Attaching package: 'gridExtra'\n",
      "\n",
      "\n",
      "The following object is masked from 'package:dplyr':\n",
      "\n",
      "    combine\n",
      "\n",
      "\n"
     ]
    }
   ],
   "source": [
    "## Importing packages\n",
    "\n",
    "library(tidyverse)    # includes ggplot and some other libraries\n",
    "library(MASS)         # mathematics functions\n",
    "library(stringr)      # string manipulation\n",
    "library(scales)       # customise graphs (axis and legend)\n",
    "library(RColorBrewer) # colour palettes\n",
    "library(wesanderson)  # colour palettes\n",
    "library(reshape2)     # data transformation\n",
    "library(polycor)      # correlation between features\n",
    "library(gridExtra)    # grid based plots\n",
    "library(wordcloud)    # to find most frequent words"
   ]
  },
  {
   "cell_type": "code",
   "execution_count": 2,
   "metadata": {
    "_kg_hide-input": true,
    "_kg_hide-output": true,
    "_uuid": "bd94d7976cc596346e211c74f1ac0394f304854e"
   },
   "outputs": [],
   "source": [
    "## Importing data from csv file\n",
    "\n",
    "data <- read.csv(\"zomato.csv\", stringsAsFactors = TRUE, header = TRUE, na.strings = c(\"\", NA))\n",
    "\n",
    "## Country code 1 is for India\n",
    "data <- subset(data, Country.Code == 1)\n",
    "\n",
    "## Keeping relevant columns\n",
    "cols_removal <- c(1,3,12)\n",
    "data <- data[, -cols_removal]"
   ]
  },
  {
   "cell_type": "markdown",
   "metadata": {
    "_uuid": "f06ce0ed7590a0c82c183c182aacb35723610cf1"
   },
   "source": [
    "# Introduction\n",
    "\n",
    "\n",
    "This is an Exploratory Data Analysis of the Zomato Dataset with respect to India using R. Here, we'll look into the data, visualise it, discuss it, and try to find patterns, if any. Ultimately, we'll try to find if there are particular factors that help us predict the Aggregate Restaurant Rating.\n",
    "\n",
    "This dataset was sourced from Kaggle."
   ]
  },
  {
   "cell_type": "markdown",
   "metadata": {
    "_uuid": "850bb9655625d17d5bea45769f09ebec01349401"
   },
   "source": [
    "# Part 1: Analysis\n"
   ]
  },
  {
   "cell_type": "markdown",
   "metadata": {
    "_kg_hide-input": true,
    "_kg_hide-output": false,
    "_uuid": "a54907572278fab5a0800c6d75e12ceafd036a9b"
   },
   "source": [
    "## **City**\n",
    "\n",
    "We try to seggregate the number of restaurants on the basis of city first."
   ]
  },
  {
   "cell_type": "code",
   "execution_count": 3,
   "metadata": {
    "_kg_hide-input": true,
    "_uuid": "5b2c5f8689090b954c19d35ac84565c0b94f20bb"
   },
   "outputs": [
    {
     "data": {
      "image/png": "[encoded data removed]",
      "text/plain": [
       "plot without title"
      ]
     },
     "metadata": {
      "image/png": {
       "height": 420,
       "width": 420
      }
     },
     "output_type": "display_data"
    }
   ],
   "source": [
    "## Taking in cities and plotting in flipped coordinates for better readability.\n",
    "## theme_minimal() is used for the colour scheme.\n",
    "\n",
    "cities <- data %>%\n",
    "            group_by(City) %>%\n",
    "            summarise(Count = n()) %>% \n",
    "            mutate(Ratio = Count/sum(Count)) %>%\n",
    "            arrange(desc(Ratio))\n",
    "cities_plot <- ggplot(cities, aes(x = reorder(City, desc(-Ratio)), fill = City, y = Ratio, label = Count)) + geom_bar(stat = \"identity\")\n",
    "cities_plot <- cities_plot + theme_minimal() + scale_y_continuous(labels = percent) + theme(legend.position = \"none\", panel.border = element_blank(), panel.background = element_blank())\n",
    "cities_plot + coord_flip() + labs(x = \"\", y = \"\") "
   ]
  },
  {
   "cell_type": "markdown",
   "metadata": {
    "_uuid": "fee1714784a2511c805a482b023f8692a970b5a5"
   },
   "source": [
    "### Findings\n",
    "\n",
    "The dataset is highly skewed toward the cities included in Delhi-NCR. So, we will summarise all the other cities in _Rest of India_ while those in New Delhi, Ghaziabad, Noida, Gurgaon, Faridabad to _Delhi-NCR_. Doing this would make our analysis turn toward __Delhi-NCR v Rest of India__. However, that would still let us find some information. It is important to note that this is not a problem with Zomato's coverage instead this is a problem with our dataset. It barely has any information on the other cities. "
   ]
  },
  {
   "cell_type": "code",
   "execution_count": 4,
   "metadata": {
    "_kg_hide-input": true,
    "_kg_hide-output": true,
    "_uuid": "c3f2c06505cb5438089404dea068b3776f9d18d0"
   },
   "outputs": [],
   "source": [
    "## Making data as rest of india vs delhi NCR\n",
    "\n",
    "ncr_names <- c(\"New Delhi\", \"Ghaziabad\", \"Noida\", \"Gurgaon\", \"Faridabad\")\n",
    "new <- data\n",
    "new$City <- as.character(new$City)\n",
    "suppressWarnings(new$City[new$City != ncr_names] <- \"Rest of India\")\n",
    "suppressWarnings(new$City[new$City == ncr_names] <- \"Delhi-NCR\")\n",
    "new$City <- as.factor(new$City)\n",
    "data <- new"
   ]
  },
  {
   "cell_type": "code",
   "execution_count": 5,
   "metadata": {
    "_kg_hide-input": true,
    "_uuid": "b0b1ed0e13273e17b823f46fa2daf732f6dccffe"
   },
   "outputs": [
    {
     "data": {
      "image/png": "[encoded data removed]",
      "text/plain": [
       "plot without title"
      ]
     },
     "metadata": {
      "image/png": {
       "height": 420,
       "width": 420
      }
     },
     "output_type": "display_data"
    }
   ],
   "source": [
    "## Plotting the graph of entries which were seperated above.\n",
    "## Again theme_minimal() is used for the colour scheme.\n",
    "\n",
    "cities <- data %>%\n",
    "            group_by(City) %>%\n",
    "            summarise(Count = n()) %>% \n",
    "            mutate(Ratio = Count/sum(Count))\n",
    "p = rev(brewer.pal(3, \"Reds\"))\n",
    "palette_9 = brewer.pal(9, \"Reds\")\n",
    "cities_plot <- ggplot(cities, aes(x = City, fill = City, y = Ratio, label = Count)) + labs(x = \"\", y = \"\") + scale_fill_manual(values = p)\n",
    "cities_plot <- cities_plot + theme_minimal() + scale_y_continuous(labels = percent) + theme(legend.position = \"none\", panel.border = element_blank(), panel.background = element_blank())\n",
    "cities_plot <- cities_plot + geom_bar(stat = \"identity\", width = 0.5) + geom_label(color = \"white\", label.padding = unit(0.50, \"lines\"), label.r = unit(0.35, \"lines\"), label.size = 0.25, nudge_y = -0.10)\n",
    "cities_plot"
   ]
  },
  {
   "cell_type": "markdown",
   "metadata": {
    "_uuid": "a0cec32e4dff985fd38583f81391baafe9379350"
   },
   "source": [
    "## **Cuisines**\n",
    "\n",
    "Each restaurant as a single cell entry for multiple cuisines as more often than not, a restaurant serves more than one cuisine. Therefore, we'll first split the columns, and then plot the cuisines."
   ]
  },
  {
   "cell_type": "code",
   "execution_count": 6,
   "metadata": {
    "_kg_hide-input": true,
    "_kg_hide-output": true,
    "_uuid": "ed66357ce31a965ffac77c260ea8e439ef75e8e2"
   },
   "outputs": [],
   "source": [
    "suppressWarnings(cuisines <- tidyr::separate(data, col = Cuisines, into = paste(\"Cuisine\", 1:8, sep = \"\"), sep = \", \"))\n",
    "cols <- c(1,2,8:15,22)\n",
    "cuisines <- cuisines[,cols]\n",
    "cols <- c(3:10)\n",
    "cuisines_factors <- lapply(cuisines[,cols], as.factor)\n",
    "cuisines <- cuisines[,-cols]\n",
    "cuisines <- cbind(cuisines, cuisines_factors)\n",
    "\n",
    "cuisine1 <- as.character(unique(cuisines$Cuisine1))\n",
    "cuisine2 <- as.character(unique(cuisines$Cuisine2))\n",
    "cuisine3 <- as.character(unique(cuisines$Cuisine3))\n",
    "cuisine4 <- as.character(unique(cuisines$Cuisine4))\n",
    "cuisine5 <- as.character(unique(cuisines$Cuisine5))\n",
    "cuisine6 <- as.character(unique(cuisines$Cuisine6))\n",
    "cuisine7 <- as.character(unique(cuisines$Cuisine7))\n",
    "cuisine8 <- as.character(unique(cuisines$Cuisine8))\n",
    "\n",
    "cuisines_list <- c(cuisine1, cuisine2, cuisine3, cuisine4, cuisine5, cuisine6, cuisine7, cuisine8)\n",
    "cuisines_list <- sort(unique(cuisines_list))"
   ]
  },
  {
   "cell_type": "markdown",
   "metadata": {
    "_uuid": "cc0f588909113dc31c52a6e4b2a6cb1c3cb7b678"
   },
   "source": [
    "### Number of Cuisines:"
   ]
  },
  {
   "cell_type": "code",
   "execution_count": 12,
   "metadata": {
    "_kg_hide-input": true,
    "_kg_hide-output": false,
    "_uuid": "4c7e1ac7a9ea2d3e30b3ff71f656f1b146d7cd1a"
   },
   "outputs": [
    {
     "data": {
      "text/html": [
       "90"
      ],
      "text/latex": [
       "90"
      ],
      "text/markdown": [
       "90"
      ],
      "text/plain": [
       "[1] 90"
      ]
     },
     "metadata": {},
     "output_type": "display_data"
    }
   ],
   "source": [
    "length(cuisines_list)"
   ]
  },
  {
   "cell_type": "markdown",
   "metadata": {
    "_uuid": "744042168a16d5e11530e4b3ddcde25d1a446b81"
   },
   "source": [
    "### List of Cuisines:"
   ]
  },
  {
   "cell_type": "code",
   "execution_count": 13,
   "metadata": {
    "_kg_hide-input": true,
    "_uuid": "6736d8e78c9c31afe6b9528b8c3f1cab02716269"
   },
   "outputs": [
    {
     "data": {
      "text/html": [
       "<style>\n",
       ".list-inline {list-style: none; margin:0; padding: 0}\n",
       ".list-inline>li {display: inline-block}\n",
       ".list-inline>li:not(:last-child)::after {content: \"\\00b7\"; padding: 0 .5ex}\n",
       "</style>\n",
       "<ol class=list-inline><li>'Afghani'</li><li>'African'</li><li>'American'</li><li>'Andhra'</li><li>'Arabian'</li><li>'Armenian'</li><li>'Asian'</li><li>'Assamese'</li><li>'Awadhi'</li><li>'Bakery'</li><li>'BBQ'</li><li>'Belgian'</li><li>'Bengali'</li><li>'Beverages'</li><li>'Bihari'</li><li>'Biryani'</li><li>'British'</li><li>'Burger'</li><li>'Burmese'</li><li>'Cafe'</li><li>'Cajun'</li><li>'Charcoal Grill'</li><li>'Chettinad'</li><li>'Chinese'</li><li>'Continental'</li><li>'Cuisine Varies'</li><li>'Deli'</li><li>'Desserts'</li><li>'Drinks Only'</li><li>'European'</li><li>'Fast Food'</li><li>'Finger Food'</li><li>'French'</li><li>'German'</li><li>'Goan'</li><li>'Greek'</li><li>'Gujarati'</li><li>'Healthy Food'</li><li>'Hyderabadi'</li><li>'Ice Cream'</li><li>'Indian'</li><li>'Indonesian'</li><li>'Iranian'</li><li>'Italian'</li><li>'Japanese'</li><li>'Juices'</li><li>'Kashmiri'</li><li>'Kerala'</li><li>'Korean'</li><li>'Lebanese'</li><li>'Lucknowi'</li><li>'Maharashtrian'</li><li>'Malaysian'</li><li>'Malwani'</li><li>'Mangalorean'</li><li>'Mediterranean'</li><li>'Mexican'</li><li>'Middle Eastern'</li><li>'Mithai'</li><li>'Modern Indian'</li><li>'Moroccan'</li><li>'Mughlai'</li><li>'Naga'</li><li>'Nepalese'</li><li>'North Eastern'</li><li>'North Indian'</li><li>'Oriya'</li><li>'Pakistani'</li><li>'Parsi'</li><li>'Persian'</li><li>'Pizza'</li><li>'Portuguese'</li><li>'Rajasthani'</li><li>'Raw Meats'</li><li>'Salad'</li><li>'Sandwich'</li><li>'Seafood'</li><li>'South American'</li><li>'South Indian'</li><li>'Spanish'</li><li>'Sri Lankan'</li><li>'Steak'</li><li>'Street Food'</li><li>'Sushi'</li><li>'Tea'</li><li>'Tex-Mex'</li><li>'Thai'</li><li>'Tibetan'</li><li>'Turkish'</li><li>'Vietnamese'</li></ol>\n"
      ],
      "text/latex": [
       "\\begin{enumerate*}\n",
       "\\item 'Afghani'\n",
       "\\item 'African'\n",
       "\\item 'American'\n",
       "\\item 'Andhra'\n",
       "\\item 'Arabian'\n",
       "\\item 'Armenian'\n",
       "\\item 'Asian'\n",
       "\\item 'Assamese'\n",
       "\\item 'Awadhi'\n",
       "\\item 'Bakery'\n",
       "\\item 'BBQ'\n",
       "\\item 'Belgian'\n",
       "\\item 'Bengali'\n",
       "\\item 'Beverages'\n",
       "\\item 'Bihari'\n",
       "\\item 'Biryani'\n",
       "\\item 'British'\n",
       "\\item 'Burger'\n",
       "\\item 'Burmese'\n",
       "\\item 'Cafe'\n",
       "\\item 'Cajun'\n",
       "\\item 'Charcoal Grill'\n",
       "\\item 'Chettinad'\n",
       "\\item 'Chinese'\n",
       "\\item 'Continental'\n",
       "\\item 'Cuisine Varies'\n",
       "\\item 'Deli'\n",
       "\\item 'Desserts'\n",
       "\\item 'Drinks Only'\n",
       "\\item 'European'\n",
       "\\item 'Fast Food'\n",
       "\\item 'Finger Food'\n",
       "\\item 'French'\n",
       "\\item 'German'\n",
       "\\item 'Goan'\n",
       "\\item 'Greek'\n",
       "\\item 'Gujarati'\n",
       "\\item 'Healthy Food'\n",
       "\\item 'Hyderabadi'\n",
       "\\item 'Ice Cream'\n",
       "\\item 'Indian'\n",
       "\\item 'Indonesian'\n",
       "\\item 'Iranian'\n",
       "\\item 'Italian'\n",
       "\\item 'Japanese'\n",
       "\\item 'Juices'\n",
       "\\item 'Kashmiri'\n",
       "\\item 'Kerala'\n",
       "\\item 'Korean'\n",
       "\\item 'Lebanese'\n",
       "\\item 'Lucknowi'\n",
       "\\item 'Maharashtrian'\n",
       "\\item 'Malaysian'\n",
       "\\item 'Malwani'\n",
       "\\item 'Mangalorean'\n",
       "\\item 'Mediterranean'\n",
       "\\item 'Mexican'\n",
       "\\item 'Middle Eastern'\n",
       "\\item 'Mithai'\n",
       "\\item 'Modern Indian'\n",
       "\\item 'Moroccan'\n",
       "\\item 'Mughlai'\n",
       "\\item 'Naga'\n",
       "\\item 'Nepalese'\n",
       "\\item 'North Eastern'\n",
       "\\item 'North Indian'\n",
       "\\item 'Oriya'\n",
       "\\item 'Pakistani'\n",
       "\\item 'Parsi'\n",
       "\\item 'Persian'\n",
       "\\item 'Pizza'\n",
       "\\item 'Portuguese'\n",
       "\\item 'Rajasthani'\n",
       "\\item 'Raw Meats'\n",
       "\\item 'Salad'\n",
       "\\item 'Sandwich'\n",
       "\\item 'Seafood'\n",
       "\\item 'South American'\n",
       "\\item 'South Indian'\n",
       "\\item 'Spanish'\n",
       "\\item 'Sri Lankan'\n",
       "\\item 'Steak'\n",
       "\\item 'Street Food'\n",
       "\\item 'Sushi'\n",
       "\\item 'Tea'\n",
       "\\item 'Tex-Mex'\n",
       "\\item 'Thai'\n",
       "\\item 'Tibetan'\n",
       "\\item 'Turkish'\n",
       "\\item 'Vietnamese'\n",
       "\\end{enumerate*}\n"
      ],
      "text/markdown": [
       "1. 'Afghani'\n",
       "2. 'African'\n",
       "3. 'American'\n",
       "4. 'Andhra'\n",
       "5. 'Arabian'\n",
       "6. 'Armenian'\n",
       "7. 'Asian'\n",
       "8. 'Assamese'\n",
       "9. 'Awadhi'\n",
       "10. 'Bakery'\n",
       "11. 'BBQ'\n",
       "12. 'Belgian'\n",
       "13. 'Bengali'\n",
       "14. 'Beverages'\n",
       "15. 'Bihari'\n",
       "16. 'Biryani'\n",
       "17. 'British'\n",
       "18. 'Burger'\n",
       "19. 'Burmese'\n",
       "20. 'Cafe'\n",
       "21. 'Cajun'\n",
       "22. 'Charcoal Grill'\n",
       "23. 'Chettinad'\n",
       "24. 'Chinese'\n",
       "25. 'Continental'\n",
       "26. 'Cuisine Varies'\n",
       "27. 'Deli'\n",
       "28. 'Desserts'\n",
       "29. 'Drinks Only'\n",
       "30. 'European'\n",
       "31. 'Fast Food'\n",
       "32. 'Finger Food'\n",
       "33. 'French'\n",
       "34. 'German'\n",
       "35. 'Goan'\n",
       "36. 'Greek'\n",
       "37. 'Gujarati'\n",
       "38. 'Healthy Food'\n",
       "39. 'Hyderabadi'\n",
       "40. 'Ice Cream'\n",
       "41. 'Indian'\n",
       "42. 'Indonesian'\n",
       "43. 'Iranian'\n",
       "44. 'Italian'\n",
       "45. 'Japanese'\n",
       "46. 'Juices'\n",
       "47. 'Kashmiri'\n",
       "48. 'Kerala'\n",
       "49. 'Korean'\n",
       "50. 'Lebanese'\n",
       "51. 'Lucknowi'\n",
       "52. 'Maharashtrian'\n",
       "53. 'Malaysian'\n",
       "54. 'Malwani'\n",
       "55. 'Mangalorean'\n",
       "56. 'Mediterranean'\n",
       "57. 'Mexican'\n",
       "58. 'Middle Eastern'\n",
       "59. 'Mithai'\n",
       "60. 'Modern Indian'\n",
       "61. 'Moroccan'\n",
       "62. 'Mughlai'\n",
       "63. 'Naga'\n",
       "64. 'Nepalese'\n",
       "65. 'North Eastern'\n",
       "66. 'North Indian'\n",
       "67. 'Oriya'\n",
       "68. 'Pakistani'\n",
       "69. 'Parsi'\n",
       "70. 'Persian'\n",
       "71. 'Pizza'\n",
       "72. 'Portuguese'\n",
       "73. 'Rajasthani'\n",
       "74. 'Raw Meats'\n",
       "75. 'Salad'\n",
       "76. 'Sandwich'\n",
       "77. 'Seafood'\n",
       "78. 'South American'\n",
       "79. 'South Indian'\n",
       "80. 'Spanish'\n",
       "81. 'Sri Lankan'\n",
       "82. 'Steak'\n",
       "83. 'Street Food'\n",
       "84. 'Sushi'\n",
       "85. 'Tea'\n",
       "86. 'Tex-Mex'\n",
       "87. 'Thai'\n",
       "88. 'Tibetan'\n",
       "89. 'Turkish'\n",
       "90. 'Vietnamese'\n",
       "\n",
       "\n"
      ],
      "text/plain": [
       " [1] \"Afghani\"        \"African\"        \"American\"       \"Andhra\"        \n",
       " [5] \"Arabian\"        \"Armenian\"       \"Asian\"          \"Assamese\"      \n",
       " [9] \"Awadhi\"         \"Bakery\"         \"BBQ\"            \"Belgian\"       \n",
       "[13] \"Bengali\"        \"Beverages\"      \"Bihari\"         \"Biryani\"       \n",
       "[17] \"British\"        \"Burger\"         \"Burmese\"        \"Cafe\"          \n",
       "[21] \"Cajun\"          \"Charcoal Grill\" \"Chettinad\"      \"Chinese\"       \n",
       "[25] \"Continental\"    \"Cuisine Varies\" \"Deli\"           \"Desserts\"      \n",
       "[29] \"Drinks Only\"    \"European\"       \"Fast Food\"      \"Finger Food\"   \n",
       "[33] \"French\"         \"German\"         \"Goan\"           \"Greek\"         \n",
       "[37] \"Gujarati\"       \"Healthy Food\"   \"Hyderabadi\"     \"Ice Cream\"     \n",
       "[41] \"Indian\"         \"Indonesian\"     \"Iranian\"        \"Italian\"       \n",
       "[45] \"Japanese\"       \"Juices\"         \"Kashmiri\"       \"Kerala\"        \n",
       "[49] \"Korean\"         \"Lebanese\"       \"Lucknowi\"       \"Maharashtrian\" \n",
       "[53] \"Malaysian\"      \"Malwani\"        \"Mangalorean\"    \"Mediterranean\" \n",
       "[57] \"Mexican\"        \"Middle Eastern\" \"Mithai\"         \"Modern Indian\" \n",
       "[61] \"Moroccan\"       \"Mughlai\"        \"Naga\"           \"Nepalese\"      \n",
       "[65] \"North Eastern\"  \"North Indian\"   \"Oriya\"          \"Pakistani\"     \n",
       "[69] \"Parsi\"          \"Persian\"        \"Pizza\"          \"Portuguese\"    \n",
       "[73] \"Rajasthani\"     \"Raw Meats\"      \"Salad\"          \"Sandwich\"      \n",
       "[77] \"Seafood\"        \"South American\" \"South Indian\"   \"Spanish\"       \n",
       "[81] \"Sri Lankan\"     \"Steak\"          \"Street Food\"    \"Sushi\"         \n",
       "[85] \"Tea\"            \"Tex-Mex\"        \"Thai\"           \"Tibetan\"       \n",
       "[89] \"Turkish\"        \"Vietnamese\"    "
      ]
     },
     "metadata": {},
     "output_type": "display_data"
    }
   ],
   "source": [
    "sort(cuisines_list)"
   ]
  },
  {
   "cell_type": "markdown",
   "metadata": {
    "_uuid": "0b7098831e5567f0e00157281070f550a53537dc"
   },
   "source": [
    "#### A Quick Word\n",
    "\n",
    "- There are __90 unique cuisines__ in our dataset.\n",
    "- There are two types of cuisines: **Location or Region** or **Type of Food**"
   ]
  },
  {
   "cell_type": "code",
   "execution_count": 14,
   "metadata": {
    "_kg_hide-input": true,
    "_kg_hide-output": true,
    "_uuid": "5d89f63261c2199e4951a4745a7aa3352b8f8594"
   },
   "outputs": [],
   "source": [
    "suppressWarnings(cuisines_long <-  melt(cuisines, id.vars = c(\"Restaurant.Name\", \"City\", \"Aggregate.rating\"), measure.vars = c(\"Cuisine1\", \"Cuisine2\", \"Cuisine3\", \"Cuisine4\", \"Cuisine5\", \"Cuisine6\", \"Cuisine7\", \"Cuisine8\")))\n",
    "cuisines_long <- cuisines_long[,-4]\n",
    "cuisines_long <- dplyr::filter(cuisines_long, !is.na(value))\n",
    "colnames(cuisines_long) <- c(\"Restaurant.Name\", \"City\", \"Aggregate.rating\", \"Cuisine\")\n",
    "cuisines_long$Cuisine <- as.factor(cuisines_long$Cuisine)"
   ]
  },
  {
   "cell_type": "markdown",
   "metadata": {
    "_uuid": "270a63a0ab872f9a052dab704588da456e9c1a65"
   },
   "source": [
    "## Top And Bottom Cuisines by Number of Restaurants\n",
    "\n",
    "Here, we're plotting the top 9 Cuisines, **by counts of restaurants**, from our dataset. It should be noted here that there are multiple restaurants which offer more than one cuisine."
   ]
  },
  {
   "cell_type": "code",
   "execution_count": 15,
   "metadata": {
    "_kg_hide-input": true,
    "_kg_hide-output": true,
    "_uuid": "d2b5edd38415c596ff7872ef7b8246b614928407"
   },
   "outputs": [
    {
     "name": "stderr",
     "output_type": "stream",
     "text": [
      "\u001b[1m\u001b[22mSelecting by Ratio\n",
      "\u001b[1m\u001b[22mSelecting by Ratio\n"
     ]
    },
    {
     "data": {
      "text/html": [
       "<table class=\"dataframe\">\n",
       "<caption>A tibble: 9 × 3</caption>\n",
       "<thead>\n",
       "\t<tr><th scope=col>Cuisine</th><th scope=col>Count</th><th scope=col>Ratio</th></tr>\n",
       "\t<tr><th scope=col>&lt;fct&gt;</th><th scope=col>&lt;int&gt;</th><th scope=col>&lt;dbl&gt;</th></tr>\n",
       "</thead>\n",
       "<tbody>\n",
       "\t<tr><td>BBQ           </td><td>1</td><td>5.600986e-05</td></tr>\n",
       "\t<tr><td>Belgian       </td><td>1</td><td>5.600986e-05</td></tr>\n",
       "\t<tr><td>Cajun         </td><td>1</td><td>5.600986e-05</td></tr>\n",
       "\t<tr><td>Cuisine Varies</td><td>1</td><td>5.600986e-05</td></tr>\n",
       "\t<tr><td>Deli          </td><td>1</td><td>5.600986e-05</td></tr>\n",
       "\t<tr><td>Malwani       </td><td>1</td><td>5.600986e-05</td></tr>\n",
       "\t<tr><td>Persian       </td><td>1</td><td>5.600986e-05</td></tr>\n",
       "\t<tr><td>Sri Lankan    </td><td>1</td><td>5.600986e-05</td></tr>\n",
       "\t<tr><td>Drinks Only   </td><td>2</td><td>1.120197e-04</td></tr>\n",
       "</tbody>\n",
       "</table>\n"
      ],
      "text/latex": [
       "A tibble: 9 × 3\n",
       "\\begin{tabular}{lll}\n",
       " Cuisine & Count & Ratio\\\\\n",
       " <fct> & <int> & <dbl>\\\\\n",
       "\\hline\n",
       "\t BBQ            & 1 & 5.600986e-05\\\\\n",
       "\t Belgian        & 1 & 5.600986e-05\\\\\n",
       "\t Cajun          & 1 & 5.600986e-05\\\\\n",
       "\t Cuisine Varies & 1 & 5.600986e-05\\\\\n",
       "\t Deli           & 1 & 5.600986e-05\\\\\n",
       "\t Malwani        & 1 & 5.600986e-05\\\\\n",
       "\t Persian        & 1 & 5.600986e-05\\\\\n",
       "\t Sri Lankan     & 1 & 5.600986e-05\\\\\n",
       "\t Drinks Only    & 2 & 1.120197e-04\\\\\n",
       "\\end{tabular}\n"
      ],
      "text/markdown": [
       "\n",
       "A tibble: 9 × 3\n",
       "\n",
       "| Cuisine &lt;fct&gt; | Count &lt;int&gt; | Ratio &lt;dbl&gt; |\n",
       "|---|---|---|\n",
       "| BBQ            | 1 | 5.600986e-05 |\n",
       "| Belgian        | 1 | 5.600986e-05 |\n",
       "| Cajun          | 1 | 5.600986e-05 |\n",
       "| Cuisine Varies | 1 | 5.600986e-05 |\n",
       "| Deli           | 1 | 5.600986e-05 |\n",
       "| Malwani        | 1 | 5.600986e-05 |\n",
       "| Persian        | 1 | 5.600986e-05 |\n",
       "| Sri Lankan     | 1 | 5.600986e-05 |\n",
       "| Drinks Only    | 2 | 1.120197e-04 |\n",
       "\n"
      ],
      "text/plain": [
       "  Cuisine        Count Ratio       \n",
       "1 BBQ            1     5.600986e-05\n",
       "2 Belgian        1     5.600986e-05\n",
       "3 Cajun          1     5.600986e-05\n",
       "4 Cuisine Varies 1     5.600986e-05\n",
       "5 Deli           1     5.600986e-05\n",
       "6 Malwani        1     5.600986e-05\n",
       "7 Persian        1     5.600986e-05\n",
       "8 Sri Lankan     1     5.600986e-05\n",
       "9 Drinks Only    2     1.120197e-04"
      ]
     },
     "metadata": {},
     "output_type": "display_data"
    }
   ],
   "source": [
    "cuisines_plot_data <- within(cuisines_long, Cuisine <- factor(Cuisine, levels = names(sort(table(Cuisine)))))\n",
    "cuisines_plot_data <- cuisines_plot_data %>%\n",
    "                        group_by(Cuisine) %>%\n",
    "                        summarise(Count = n()) %>% \n",
    "                        mutate(Ratio = Count/sum(Count)) %>%\n",
    "                        top_n(9)\n",
    "finding_last_9 <- within(cuisines_long, Cuisine <- factor(Cuisine, levels = names(sort(table(Cuisine)))))\n",
    "finding_last_9 <- finding_last_9 %>%\n",
    "                    group_by(Cuisine) %>%\n",
    "                    summarise(Count = n()) %>% \n",
    "                    mutate(Ratio = Count/sum(Count)) %>%\n",
    "                    top_n(-9)\n",
    "finding_last_9 <- finding_last_9[1:9,]\n",
    "finding_last_9[1:9,]"
   ]
  },
  {
   "cell_type": "code",
   "execution_count": 16,
   "metadata": {
    "_kg_hide-input": true,
    "_kg_hide-output": true,
    "_uuid": "5ee31d2d817b8c96d9f59cc7e3b8ffa96c65ba17"
   },
   "outputs": [],
   "source": [
    "## Making plots for top 9 and bottom 9 cusines.\n",
    "\n",
    "## Top 9\n",
    "cuisines_plot <- ggplot(cuisines_plot_data, aes(x = Cuisine, fill = Cuisine, y = Ratio, label = Count)) + labs(x = \"\", y = \"\", title = \"Top 9 Cuisines (Overall)\") + scale_fill_manual(values = palette_9)\n",
    "cuisines_plot <- cuisines_plot + theme_minimal() + scale_y_continuous(labels = percent) + theme(legend.position = \"none\", panel.border = element_blank(), panel.background = element_blank())\n",
    "cuisines_plot <- cuisines_plot + geom_bar(stat = \"identity\", width = 0.5) # + geom_label(color = \"white\", label.padding = unit(0.50, \"lines\"), label.r = unit(0.35, \"lines\"), label.size = 0.25, nudge_y = -0.10)\n",
    "\n",
    "## Bottom 9\n",
    "cuisines_plot_last <- ggplot(finding_last_9, aes(x = Cuisine, fill = Cuisine, y = Ratio, label = Count)) + labs(x = \"\", y = \"\", title = \"Bottom 9 Cuisines (Overall)\") + scale_fill_manual(values = palette_9)\n",
    "cuisines_plot_last <- cuisines_plot_last + theme_minimal() + scale_y_continuous(labels = percent_format()) + theme(legend.position = \"none\", panel.border = element_blank(), panel.background = element_blank())\n",
    "cuisines_plot_last <- cuisines_plot_last + geom_bar(stat = \"identity\", width = 0.5) # + geom_label(color = \"white\", label.padding = unit(0.50, \"lines\"), label.r = unit(0.35, \"lines\"), label.size = 0.25, nudge_y = -0.10)"
   ]
  },
  {
   "cell_type": "markdown",
   "metadata": {
    "_uuid": "4d31bc27c4b43c1e8ac238b0e8ebc9f7e83e1c6a"
   },
   "source": [
    "It is quite clear that __North Indian__, __Chinese__ and __Fast Food__ take up **roughly 50%** of the top 9 while restaurants offering other cuisines are lacking. Since there are more people who would prefer these cuisines, it is probably an obvious go for most restaurants to serve them. This could impact the rating as there is a hint of preference toward the highly present cuisines. We'll study and build on these ideas further under the regression section.\n",
    "\n",
    "We'll look a little further into the cuisines now."
   ]
  },
  {
   "cell_type": "code",
   "execution_count": 17,
   "metadata": {
    "_kg_hide-input": true,
    "_uuid": "66735d95b5c24fc98f62ab814271b969691d3ec1"
   },
   "outputs": [
    {
     "data": {
      "image/png": "[encoded data removed]",
      "text/plain": [
       "plot without title"
      ]
     },
     "metadata": {
      "image/png": {
       "height": 420,
       "width": 420
      }
     },
     "output_type": "display_data"
    }
   ],
   "source": [
    "## Grid helps us plot multiple graphs at once.\n",
    "\n",
    "grid.arrange(cuisines_plot, cuisines_plot_last, nrow = 2)"
   ]
  },
  {
   "cell_type": "markdown",
   "metadata": {
    "_uuid": "5832ec6fda03ba4c19d582c3299bce646289701e"
   },
   "source": [
    "**Cuisines at the bottom 9 of the dataset have fractional presence when compared with the top 9 cuisines. This is obvious but the disparity between them is still extreme.**"
   ]
  },
  {
   "cell_type": "markdown",
   "metadata": {
    "_uuid": "3861da4eeb5bee55540c8a3224c3b4a8c0d524b3"
   },
   "source": [
    "## Top And Bottom Cuisines (Overall) by Aggregate Rating\n",
    "\n",
    "Now, we'll look at the relationship between cuisines and aggregate rating. We will view them on our division of cities to spot how different or similar populations of both regions rate the top and bottom cuisines in the country. "
   ]
  },
  {
   "cell_type": "code",
   "execution_count": 18,
   "metadata": {
    "_kg_hide-input": true,
    "_uuid": "8fd2ede602d087fa0ec2162add8bf551786829b8"
   },
   "outputs": [
    {
     "data": {
      "image/png": "[encoded data removed]",
      "text/plain": [
       "plot without title"
      ]
     },
     "metadata": {
      "image/png": {
       "height": 420,
       "width": 420
      }
     },
     "output_type": "display_data"
    }
   ],
   "source": [
    "## To make the plot of aggregate rating with respect to cusines in different regions of India.\n",
    "\n",
    "top_9_cuisines <- cuisines_plot_data[1:9,1]\n",
    "top_9_cuisines <- top_9_cuisines$Cuisine\n",
    "top_9_cuisines <- as.vector(top_9_cuisines)\n",
    "\n",
    "cuisine_rating_plot_data <- cuisines_long[cuisines_long$Cuisine %in% top_9_cuisines, -1]\n",
    "cuisine_rating_plot_data <- unique(cuisine_rating_plot_data)\n",
    "cuisine_rating_plot_data <- droplevels(cuisine_rating_plot_data)\n",
    "\n",
    "## Plot of top 9 cusines\n",
    "cuisine_rating_plot <- ggplot(cuisine_rating_plot_data, aes(x = Cuisine, y = Aggregate.rating, fill = City, label = Aggregate.rating)) + scale_fill_manual(values = p)\n",
    "cuisine_rating_plot <- cuisine_rating_plot + theme_minimal() + theme(legend.position = \"bottom\", panel.border = element_blank(), panel.background = element_blank())\n",
    "cuisine_rating_plot <- cuisine_rating_plot + geom_bar(stat = \"identity\", position = \"dodge\", width = 0.5) + coord_flip() + labs(x = \"\", y = \"\", title = \"Top 9 Cuisines\") \n",
    "\n",
    "last_9_cuisines <- finding_last_9[1:9,1]\n",
    "last_9_cuisines <- last_9_cuisines$Cuisine\n",
    "last_9_cuisines <- as.vector(last_9_cuisines)\n",
    "\n",
    "## Plot of bottom 9 cusines.\n",
    "cuisine_plot_last_9_data <- cuisines_long[cuisines_long$Cuisine %in% last_9_cuisines, -1]\n",
    "cuisine_plot_last_9_data <- unique(cuisine_plot_last_9_data)\n",
    "cuisine_plot_last_9_data <- droplevels(cuisine_plot_last_9_data)\n",
    "\n",
    "cuisine_rating_9_plot <- ggplot(cuisine_plot_last_9_data, aes(x = Cuisine, y = Aggregate.rating, fill = City, label = Aggregate.rating)) + scale_fill_manual(values = p)\n",
    "cuisine_rating_9_plot <- cuisine_rating_9_plot + theme_minimal() + theme(legend.position = \"bottom\", panel.border = element_blank(), panel.background = element_blank())\n",
    "cuisine_rating_9_plot <- cuisine_rating_9_plot + geom_bar(stat = \"identity\", position = \"dodge\", width = 0.5) + coord_flip() + labs(x = \"\", y = \"\", title = \"Bottom 9 Cuisines\") \n",
    "\n",
    "grid.arrange(cuisine_rating_plot, cuisine_rating_9_plot, ncol = 2)"
   ]
  },
  {
   "cell_type": "markdown",
   "metadata": {
    "_uuid": "3621978659a25ea4cee7d3501c825318b9e6fc24"
   },
   "source": [
    "Node that the bottom 9 cuisines don't even exist in __Delhi-NCR__. Also, in general, ratings in __Delhi-NCR__ are less than those of ratings in __Rest of India__.\n",
    "\n",
    "Also notice, the maximum aggregate rating for the bottom restaurants never exceeds somewhere around 4.5 for __Persian__, everything else falls below it while for the top restaurants, at least in the __Rest of India__ section, most are above 4.5.\n",
    "\n",
    "#### **Gist of Observations:**\n",
    "\n",
    "* Most of the bottom 9 don't even exist in **Delhi-NCR**.\n",
    "* The ratings in **Delhi-NCR** are, on an average, **less than Rest of India**.\n",
    "* The average rating of Rest of India for the top 9 easily exceeds 4.5 while for the bottom 9, it barely touches 4 out of 5 with the exception of **Persian**."
   ]
  },
  {
   "cell_type": "code",
   "execution_count": 19,
   "metadata": {
    "_kg_hide-input": true,
    "_kg_hide-output": true,
    "_uuid": "5d843e0627e92b04a26851df7e13f9ebadcb5121"
   },
   "outputs": [],
   "source": [
    "cuisines_ncr <- cuisines_long[which(cuisines_long$City == \"Delhi-NCR\"),]\n",
    "cuisines_roi <- cuisines_long[which(cuisines_long$City == \"Rest of India\"),]"
   ]
  },
  {
   "cell_type": "markdown",
   "metadata": {
    "_uuid": "49784ef9e79cfdf6dd5b04cee0acfcc49ec77b53"
   },
   "source": [
    "## Splitting the Dataset on Basis of City\n",
    "\n",
    "We'll start by splitting the dataset by city and then finding each city's top 9 and bottom 9 cuisines."
   ]
  },
  {
   "cell_type": "code",
   "execution_count": 20,
   "metadata": {
    "_kg_hide-input": true,
    "_uuid": "51349fc50d8678c40aa8cd7fb5db68d6545ada52"
   },
   "outputs": [
    {
     "data": {
      "text/html": [
       "<table class=\"dataframe\">\n",
       "<caption>A data.frame: 5 × 4</caption>\n",
       "<thead>\n",
       "\t<tr><th></th><th scope=col>Restaurant.Name</th><th scope=col>City</th><th scope=col>Aggregate.rating</th><th scope=col>Cuisine</th></tr>\n",
       "\t<tr><th></th><th scope=col>&lt;fct&gt;</th><th scope=col>&lt;fct&gt;</th><th scope=col>&lt;dbl&gt;</th><th scope=col>&lt;fct&gt;</th></tr>\n",
       "</thead>\n",
       "<tbody>\n",
       "\t<tr><th scope=row>1</th><td>Jahanpanah                           </td><td>Rest of India</td><td>3.9</td><td>North Indian</td></tr>\n",
       "\t<tr><th scope=row>2</th><td>Rangrezz Restaurant                  </td><td>Rest of India</td><td>3.5</td><td>North Indian</td></tr>\n",
       "\t<tr><th scope=row>3</th><td>Time2Eat - Mama Chicken              </td><td>Rest of India</td><td>3.6</td><td>North Indian</td></tr>\n",
       "\t<tr><th scope=row>4</th><td>Chokho Jeeman Marwari Jain Bhojanalya</td><td>Rest of India</td><td>4.0</td><td>Rajasthani  </td></tr>\n",
       "\t<tr><th scope=row>5</th><td>Pinch Of Spice                       </td><td>Rest of India</td><td>4.2</td><td>North Indian</td></tr>\n",
       "</tbody>\n",
       "</table>\n"
      ],
      "text/latex": [
       "A data.frame: 5 × 4\n",
       "\\begin{tabular}{r|llll}\n",
       "  & Restaurant.Name & City & Aggregate.rating & Cuisine\\\\\n",
       "  & <fct> & <fct> & <dbl> & <fct>\\\\\n",
       "\\hline\n",
       "\t1 & Jahanpanah                            & Rest of India & 3.9 & North Indian\\\\\n",
       "\t2 & Rangrezz Restaurant                   & Rest of India & 3.5 & North Indian\\\\\n",
       "\t3 & Time2Eat - Mama Chicken               & Rest of India & 3.6 & North Indian\\\\\n",
       "\t4 & Chokho Jeeman Marwari Jain Bhojanalya & Rest of India & 4.0 & Rajasthani  \\\\\n",
       "\t5 & Pinch Of Spice                        & Rest of India & 4.2 & North Indian\\\\\n",
       "\\end{tabular}\n"
      ],
      "text/markdown": [
       "\n",
       "A data.frame: 5 × 4\n",
       "\n",
       "| <!--/--> | Restaurant.Name &lt;fct&gt; | City &lt;fct&gt; | Aggregate.rating &lt;dbl&gt; | Cuisine &lt;fct&gt; |\n",
       "|---|---|---|---|---|\n",
       "| 1 | Jahanpanah                            | Rest of India | 3.9 | North Indian |\n",
       "| 2 | Rangrezz Restaurant                   | Rest of India | 3.5 | North Indian |\n",
       "| 3 | Time2Eat - Mama Chicken               | Rest of India | 3.6 | North Indian |\n",
       "| 4 | Chokho Jeeman Marwari Jain Bhojanalya | Rest of India | 4.0 | Rajasthani   |\n",
       "| 5 | Pinch Of Spice                        | Rest of India | 4.2 | North Indian |\n",
       "\n"
      ],
      "text/plain": [
       "  Restaurant.Name                       City          Aggregate.rating\n",
       "1 Jahanpanah                            Rest of India 3.9             \n",
       "2 Rangrezz Restaurant                   Rest of India 3.5             \n",
       "3 Time2Eat - Mama Chicken               Rest of India 3.6             \n",
       "4 Chokho Jeeman Marwari Jain Bhojanalya Rest of India 4.0             \n",
       "5 Pinch Of Spice                        Rest of India 4.2             \n",
       "  Cuisine     \n",
       "1 North Indian\n",
       "2 North Indian\n",
       "3 North Indian\n",
       "4 Rajasthani  \n",
       "5 North Indian"
      ]
     },
     "metadata": {},
     "output_type": "display_data"
    }
   ],
   "source": [
    "cuisines_roi[1:5,]"
   ]
  },
  {
   "cell_type": "code",
   "execution_count": 21,
   "metadata": {
    "_kg_hide-input": true,
    "_uuid": "88ac6c46aa9c07b9a08f7a4790cfc760f4444445"
   },
   "outputs": [
    {
     "data": {
      "text/html": [
       "<table class=\"dataframe\">\n",
       "<caption>A data.frame: 5 × 4</caption>\n",
       "<thead>\n",
       "\t<tr><th></th><th scope=col>Restaurant.Name</th><th scope=col>City</th><th scope=col>Aggregate.rating</th><th scope=col>Cuisine</th></tr>\n",
       "\t<tr><th></th><th scope=col>&lt;fct&gt;</th><th scope=col>&lt;fct&gt;</th><th scope=col>&lt;dbl&gt;</th><th scope=col>&lt;fct&gt;</th></tr>\n",
       "</thead>\n",
       "<tbody>\n",
       "\t<tr><th scope=row>245</th><td>Raju Dhaba      </td><td>Delhi-NCR</td><td>2.9</td><td>North Indian</td></tr>\n",
       "\t<tr><th scope=row>250</th><td>Total Food Court</td><td>Delhi-NCR</td><td>0.0</td><td>North Indian</td></tr>\n",
       "\t<tr><th scope=row>255</th><td>Aapki Rasoi     </td><td>Delhi-NCR</td><td>0.0</td><td>North Indian</td></tr>\n",
       "\t<tr><th scope=row>260</th><td>Suruchi         </td><td>Delhi-NCR</td><td>3.4</td><td>North Indian</td></tr>\n",
       "\t<tr><th scope=row>265</th><td>Popcorn Fusion  </td><td>Delhi-NCR</td><td>0.0</td><td>Fast Food   </td></tr>\n",
       "</tbody>\n",
       "</table>\n"
      ],
      "text/latex": [
       "A data.frame: 5 × 4\n",
       "\\begin{tabular}{r|llll}\n",
       "  & Restaurant.Name & City & Aggregate.rating & Cuisine\\\\\n",
       "  & <fct> & <fct> & <dbl> & <fct>\\\\\n",
       "\\hline\n",
       "\t245 & Raju Dhaba       & Delhi-NCR & 2.9 & North Indian\\\\\n",
       "\t250 & Total Food Court & Delhi-NCR & 0.0 & North Indian\\\\\n",
       "\t255 & Aapki Rasoi      & Delhi-NCR & 0.0 & North Indian\\\\\n",
       "\t260 & Suruchi          & Delhi-NCR & 3.4 & North Indian\\\\\n",
       "\t265 & Popcorn Fusion   & Delhi-NCR & 0.0 & Fast Food   \\\\\n",
       "\\end{tabular}\n"
      ],
      "text/markdown": [
       "\n",
       "A data.frame: 5 × 4\n",
       "\n",
       "| <!--/--> | Restaurant.Name &lt;fct&gt; | City &lt;fct&gt; | Aggregate.rating &lt;dbl&gt; | Cuisine &lt;fct&gt; |\n",
       "|---|---|---|---|---|\n",
       "| 245 | Raju Dhaba       | Delhi-NCR | 2.9 | North Indian |\n",
       "| 250 | Total Food Court | Delhi-NCR | 0.0 | North Indian |\n",
       "| 255 | Aapki Rasoi      | Delhi-NCR | 0.0 | North Indian |\n",
       "| 260 | Suruchi          | Delhi-NCR | 3.4 | North Indian |\n",
       "| 265 | Popcorn Fusion   | Delhi-NCR | 0.0 | Fast Food    |\n",
       "\n"
      ],
      "text/plain": [
       "    Restaurant.Name  City      Aggregate.rating Cuisine     \n",
       "245 Raju Dhaba       Delhi-NCR 2.9              North Indian\n",
       "250 Total Food Court Delhi-NCR 0.0              North Indian\n",
       "255 Aapki Rasoi      Delhi-NCR 0.0              North Indian\n",
       "260 Suruchi          Delhi-NCR 3.4              North Indian\n",
       "265 Popcorn Fusion   Delhi-NCR 0.0              Fast Food   "
      ]
     },
     "metadata": {},
     "output_type": "display_data"
    }
   ],
   "source": [
    "cuisines_ncr[1:5,]"
   ]
  },
  {
   "cell_type": "code",
   "execution_count": 22,
   "metadata": {
    "_kg_hide-input": true,
    "_kg_hide-output": true,
    "_uuid": "1f97961de32aed53fe340e63dedda67910cb8aea"
   },
   "outputs": [
    {
     "name": "stderr",
     "output_type": "stream",
     "text": [
      "\u001b[1m\u001b[22mSelecting by Ratio\n",
      "\u001b[1m\u001b[22mSelecting by Ratio\n",
      "\u001b[1m\u001b[22mSelecting by Ratio\n",
      "\u001b[1m\u001b[22mSelecting by Ratio\n"
     ]
    }
   ],
   "source": [
    "## Here we aim to plot the top and bottom cusines city wise.\n",
    "## We have done this task for overall India above.\n",
    "\n",
    "cuisine_ncr_top_data <- within(cuisines_ncr, Cuisine <- factor(Cuisine, levels = names(sort(table(Cuisine)))))\n",
    "cuisine_ncr_top_data <- cuisine_ncr_top_data %>%\n",
    "                        group_by(Cuisine) %>%\n",
    "                        summarise(Count = n()) %>% \n",
    "                        mutate(Ratio = Count/sum(Count)) %>%\n",
    "                        top_n(9)\n",
    "\n",
    "cuisine_roi_top_data <- within(cuisines_roi, Cuisine <- factor(Cuisine, levels = names(sort(table(Cuisine)))))\n",
    "cuisine_roi_top_data <- cuisine_roi_top_data %>%\n",
    "                        group_by(Cuisine) %>%\n",
    "                        summarise(Count = n()) %>% \n",
    "                        mutate(Ratio = Count/sum(Count)) %>%\n",
    "                        top_n(9)\n",
    "\n",
    "cuisine_ncr_top_plot <- ggplot(cuisine_ncr_top_data, aes(x = Cuisine, fill = Cuisine, y = Ratio, label = Count)) + labs(x = \"\", y = \"\", title = \"Top 9 Cuisines (Delhi-NCR)\")\n",
    "cuisine_ncr_top_plot <- cuisine_ncr_top_plot + theme_minimal() + scale_y_continuous(labels = percent) + theme(legend.position = \"none\", panel.border = element_blank(), panel.background = element_blank(), axis.text.x = element_text(angle = 60, hjust = 1))\n",
    "cuisine_ncr_top_plot <- cuisine_ncr_top_plot + geom_bar(stat = \"identity\", width = 0.5) # + geom_label(color = \"white\", label.padding = unit(0.50, \"lines\"), label.r = unit(0.35, \"lines\"), label.size = 0.25, nudge_y = -0.10)\n",
    "cuisine_ncr_top_plot <- cuisine_ncr_top_plot + geom_text(color = \"black\", size = 2, nudge_y = 0.009) + scale_fill_manual(values = palette_9)\n",
    "\n",
    "cuisine_roi_top_plot <- ggplot(cuisine_roi_top_data, aes(x = Cuisine, fill = Cuisine, y = Ratio, label = Count)) + labs(x = \"\", y = \"\", title = \"Top 9 Cuisines (Rest of India)\")\n",
    "cuisine_roi_top_plot <- cuisine_roi_top_plot + theme_minimal() + scale_y_continuous(labels = percent) + theme(legend.position = \"none\", panel.border = element_blank(), panel.background = element_blank(), axis.text.x = element_text(angle = 60, hjust = 1))\n",
    "cuisine_roi_top_plot <- cuisine_roi_top_plot + geom_bar(stat = \"identity\", width = 0.5) # + geom_label(color = \"white\", label.padding = unit(0.50, \"lines\"), label.r = unit(0.35, \"lines\"), label.size = 0.25, nudge_y = -0.10)\n",
    "cuisine_roi_top_plot <- cuisine_roi_top_plot + geom_text(color = \"black\", size = 2, nudge_y = 0.009) + scale_fill_manual(values = palette_9)\n",
    "\n",
    "cuisine_ncr_bottom_data <- within(cuisines_ncr, Cuisine <- factor(Cuisine, levels = names(sort(table(Cuisine)))))\n",
    "cuisine_ncr_bottom_data <- cuisine_ncr_bottom_data %>%\n",
    "                            group_by(Cuisine) %>%\n",
    "                            summarise(Count = n()) %>% \n",
    "                            mutate(Ratio = Count/sum(Count)) %>%\n",
    "                            top_n(-9)\n",
    "\n",
    "cuisine_ncr_bottom_data <- cuisine_ncr_bottom_data[1:9,]\n",
    "\n",
    "cuisine_roi_bottom_data <- within(cuisines_roi, Cuisine <- factor(Cuisine, levels = names(sort(table(Cuisine)))))\n",
    "cuisine_roi_bottom_data <- cuisine_roi_bottom_data %>%\n",
    "                            group_by(Cuisine) %>%\n",
    "                            summarise(Count = n()) %>% \n",
    "                            mutate(Ratio = Count/sum(Count)) %>%\n",
    "                            top_n(-9)\n",
    "\n",
    "cuisine_ncr_bottom_plot <- ggplot(cuisine_ncr_bottom_data, aes(x = Cuisine, fill = Cuisine, y = Ratio, label = Count)) + labs(x = \"\", y = \"\", title = \"Bottom 9 Cuisines (Delhi-NCR)\")\n",
    "cuisine_ncr_bottom_plot <- cuisine_ncr_bottom_plot + theme_minimal() + scale_y_continuous(labels = percent) + theme(legend.position = \"none\", panel.border = element_blank(), panel.background = element_blank(), axis.text.x = element_text(angle = 60, hjust = 1))\n",
    "cuisine_ncr_bottom_plot <- cuisine_ncr_bottom_plot + geom_bar(stat = \"identity\", width = 0.5) # + geom_label(color = \"white\", label.padding = unit(0.50, \"lines\"), label.r = unit(0.35, \"lines\"), label.size = 0.25, nudge_y = -0.10)\n",
    "cuisine_ncr_bottom_plot <- cuisine_ncr_bottom_plot + scale_fill_manual(values = palette_9)\n",
    "\n",
    "cuisine_roi_bottom_plot <- ggplot(cuisine_roi_bottom_data, aes(x = Cuisine, fill = Cuisine, y = Ratio, label = Count)) + labs(x = \"\", y = \"\", title = \"Bottom 9 Cuisines (Rest of India)\")\n",
    "cuisine_roi_bottom_plot <- cuisine_roi_bottom_plot + theme_minimal() + scale_y_continuous(labels = percent) + theme(legend.position = \"none\", panel.border = element_blank(), panel.background = element_blank(), axis.text.x = element_text(angle = 60, hjust = 1, size = 6))\n",
    "cuisine_roi_bottom_plot <- cuisine_roi_bottom_plot + geom_bar(stat = \"identity\", width = 0.5) # + geom_label(color = \"white\", label.padding = unit(0.50, \"lines\"), label.r = unit(0.35, \"lines\"), label.size = 0.25, nudge_y = -0.10)\n",
    "cuisine_roi_bottom_plot <- cuisine_roi_bottom_plot + scale_fill_manual(values = palette_9)"
   ]
  },
  {
   "cell_type": "markdown",
   "metadata": {
    "_uuid": "08c2b8e2206c45085e4aaaec2e66ef45ca914081"
   },
   "source": [
    "* Note that, these comparisons are based on the number of restaurants offering that cuisine."
   ]
  },
  {
   "cell_type": "code",
   "execution_count": 39,
   "metadata": {
    "_kg_hide-input": true,
    "_uuid": "0ea7b08c833e8cb8c401aef0e05ecc9efbbc9892"
   },
   "outputs": [
    {
     "data": {
      "image/png": "[encoded data removed]",
      "text/plain": [
       "plot without title"
      ]
     },
     "metadata": {},
     "output_type": "display_data"
    }
   ],
   "source": [
    "grid.arrange(cuisine_ncr_top_plot, cuisine_roi_top_plot, cuisine_ncr_bottom_plot, cuisine_roi_bottom_plot, nrow = 2, ncol = 2)"
   ]
  },
  {
   "cell_type": "markdown",
   "metadata": {
    "_kg_hide-input": true,
    "_uuid": "a79097d4f6612efda80d0117b5e9ba414bb2c88d"
   },
   "source": [
    "### Let's Talk About The Bottom First\n",
    "\n",
    "* The bottom 9 cuisines in Delhi-NCR have **nothing** in common with the bottom 9 cuisines in Rest of India. This indicates extremely different preferences in one concentrated area when compared to the overall country.\n",
    "* Each of the bottom cuisines have **equal frequencies** which explains why their graphs look the way they do. Most of these are just 1 restaurant in the subset of the data serving these cuisines.\n",
    "\n",
    "### Now, About The Top\n",
    "\n",
    "* The first four cuisines, namely, **North Indian**, **Chinese**, **Fast Food** and **Mughlai** seem to form the top of both Delhi-NCR and Rest of India. Even the percentage distributions indicate an equal sense of preference, and the graphs show similar trends.\n",
    "* **Bakery**, which is the **fifth** most abundant cuisine in Delhi-NCR drops further below to the **seventh** position in the Rest of India.\n",
    "* **Cafe** gets a similar treatment where it is at an **eight** in Rest of India but drops to the **ninth** spot in Delhi-NCR.\n",
    "* **South Indian**, which is at the **sixth** in Delhi-NCR falls to the **last of the top 9** in Rest of India.\n",
    "\n"
   ]
  },
  {
   "cell_type": "markdown",
   "metadata": {},
   "source": [
    "### Now we will see the aggregate rating of the top and bottom cusines\n",
    "### Rating is on a scale of 0 to 5"
   ]
  },
  {
   "cell_type": "code",
   "execution_count": 23,
   "metadata": {
    "_kg_hide-input": true,
    "_uuid": "3445d67ffd556591d410b68173c0deab53f8f9d6"
   },
   "outputs": [
    {
     "data": {
      "image/png": "[encoded data removed]",
      "text/plain": [
       "plot without title"
      ]
     },
     "metadata": {
      "image/png": {
       "height": 420,
       "width": 420
      }
     },
     "output_type": "display_data"
    }
   ],
   "source": [
    "top_9_ncr_list <- cuisine_ncr_top_data[1:9,1]\n",
    "top_9_ncr_list <- top_9_ncr_list$Cuisine\n",
    "top_9_ncr_list <- as.vector(top_9_ncr_list)\n",
    "\n",
    "cui_rat_ncr_top9 <- cuisines_long[cuisines_long$Cuisine %in% top_9_ncr_list, -1]\n",
    "cui_rat_ncr_top9 <- unique(cui_rat_ncr_top9)\n",
    "cui_rat_ncr_top9 <- droplevels(cui_rat_ncr_top9)\n",
    "\n",
    "cui_rat_ncr_top9_plot <- ggplot(cui_rat_ncr_top9, aes(x = Cuisine, y = Aggregate.rating, fill = Cuisine, label = Aggregate.rating)) + scale_fill_manual(values = palette_9)\n",
    "cui_rat_ncr_top9_plot <- cui_rat_ncr_top9_plot + theme_minimal() + theme(legend.position = \"none\", panel.border = element_blank(), panel.background = element_blank(), axis.text.x = element_text(angle = 60, hjust = 1))\n",
    "cui_rat_ncr_top9_plot <- cui_rat_ncr_top9_plot + geom_bar(stat = \"identity\", position = \"dodge\", width = 0.5) + labs(x = \"\", y = \"\", title = \"Top 9 Cuisines (Delhi-NCR)\") \n",
    "\n",
    "top_9_roi_list <- cuisine_roi_top_data[1:9,1]\n",
    "top_9_roi_list <- top_9_roi_list$Cuisine\n",
    "top_9_roi_list <- as.vector(top_9_roi_list)\n",
    "\n",
    "cui_rat_roi_top9 <- cuisines_long[cuisines_long$Cuisine %in% top_9_roi_list, -1]\n",
    "cui_rat_roi_top9 <- unique(cui_rat_roi_top9)\n",
    "cui_rat_roi_top9 <- droplevels(cui_rat_roi_top9)\n",
    "\n",
    "cui_rat_roi_top9_plot <- ggplot(cui_rat_roi_top9, aes(x = Cuisine, y = Aggregate.rating, fill = Cuisine, label = Aggregate.rating)) + scale_fill_manual(values = palette_9)\n",
    "cui_rat_roi_top9_plot <- cui_rat_roi_top9_plot + theme_minimal() + theme(legend.position = \"none\", panel.border = element_blank(), panel.background = element_blank(), axis.text.x = element_text(angle = 60, hjust = 1))\n",
    "cui_rat_roi_top9_plot <- cui_rat_roi_top9_plot + geom_bar(stat = \"identity\", position = \"dodge\", width = 0.5) + labs(x = \"\", y = \"\", title = \"Top 9 Cuisines (Rest of India)\") \n",
    "\n",
    "bot_9_ncr_list <- cuisine_ncr_bottom_data[1:9,1]\n",
    "bot_9_ncr_list <- bot_9_ncr_list$Cuisine\n",
    "bot_9_ncr_list <- as.vector(bot_9_ncr_list)\n",
    "\n",
    "cui_rat_ncr_bot9 <- cuisines_long[cuisines_long$Cuisine %in% bot_9_ncr_list, -1]\n",
    "cui_rat_ncr_bot9 <- unique(cui_rat_ncr_bot9)\n",
    "cui_rat_ncr_bot9 <- droplevels(cui_rat_ncr_bot9)\n",
    "\n",
    "cui_rat_ncr_bot9_plot <- ggplot(cui_rat_ncr_bot9, aes(x = Cuisine, y = Aggregate.rating, fill = Cuisine, label = Aggregate.rating)) + scale_fill_manual(values = palette_9)\n",
    "cui_rat_ncr_bot9_plot <- cui_rat_ncr_bot9_plot + theme_minimal() + theme(legend.position = \"none\", panel.border = element_blank(), panel.background = element_blank(), axis.text.x = element_text(angle = 60, hjust = 1))\n",
    "cui_rat_ncr_bot9_plot <- cui_rat_ncr_bot9_plot + geom_bar(stat = \"identity\", position = \"dodge\", width = 0.5) + labs(x = \"\", y = \"\", title = \"Bottom 9 Cuisines (Delhi-NCR)\") \n",
    "\n",
    "bot_9_roi_list <- cuisine_roi_bottom_data[1:9,1]\n",
    "bot_9_roi_list <- bot_9_roi_list$Cuisine\n",
    "bot_9_roi_list <- as.vector(bot_9_roi_list)\n",
    "\n",
    "cui_rat_roi_bot9 <- cuisines_long[cuisines_long$Cuisine %in% bot_9_roi_list, -1]\n",
    "cui_rat_roi_bot9 <- unique(cui_rat_roi_bot9)\n",
    "cui_rat_roi_bot9 <- droplevels(cui_rat_roi_bot9)\n",
    "\n",
    "cui_rat_roi_bot9_plot <- ggplot(cui_rat_roi_bot9, aes(x = Cuisine, y = Aggregate.rating, fill = Cuisine, label = Aggregate.rating)) + scale_fill_manual(values = palette_9)\n",
    "cui_rat_roi_bot9_plot <- cui_rat_roi_bot9_plot + theme_minimal() + theme(legend.position = \"none\", panel.border = element_blank(), panel.background = element_blank(), axis.text.x = element_text(angle = 60, hjust = 1, size = 6))\n",
    "cui_rat_roi_bot9_plot <- cui_rat_roi_bot9_plot + geom_bar(stat = \"identity\", position = \"dodge\", width = 0.5) + labs(x = \"\", y = \"\", title = \"Bottom 9 Cuisines (Rest of India)\") \n",
    "\n",
    "grid.arrange(cui_rat_ncr_top9_plot, cui_rat_roi_top9_plot, cui_rat_ncr_bot9_plot, cui_rat_roi_bot9_plot, nrow = 2, ncol = 2)"
   ]
  },
  {
   "cell_type": "markdown",
   "metadata": {
    "_uuid": "d2be789e4848dfcebfb2223b252c31d04e9a0022"
   },
   "source": [
    "* Please note, these are Top and Bottom Cuisines in Delhi-NCR and Rest of India by Aggregate Rating"
   ]
  },
  {
   "cell_type": "markdown",
   "metadata": {
    "_uuid": "ee420bc0bf985fdeec55ea0a388478c97ff8f2cd"
   },
   "source": [
    "### **Concluding Cuisines**\n",
    "\n",
    "#### If **Number of Restaurants** are considered, then:\n",
    "\n",
    "* **Overall**\n",
    "\n",
    "    * **Top 9 Cuisines**  : North Indian, Chinese, Fast Food, Mughlai, Bakery, Continental, Italian, South Indian, Cafe\n",
    "       \n",
    "    * **Bottom 9 Cuisines** : Drinks Only, Sri Lankan, Persian, Malwani, Deli, Cuisine Varies, Cajun, Belgian, BBQ\n",
    "        \n",
    "* **Delhi-NCR**\n",
    "\n",
    "    * **Top 9 Cuisines** : North Indian, Chinese, Fast Food, Mughlai, Bakery, South Indian, Street Food, Desserts\n",
    "\n",
    "    * **Bottom 9 Cuisines** : African, Andhra, Arabian, Armenian, Awadhi, Bihari, Burmese, Gujarati, Indonesian\n",
    "        \n",
    "* **Rest of India**\n",
    "\n",
    "    * **Top 9 Cuisines** : North Indian, Chinese, Fast Food, Mughlai, Continental, Italian, Bakery, Cafe, South Indian\n",
    "\n",
    "    * **Bottom 9 Cuisines** : South American, Persian, Oriya, Malwani, Deli, Cuisine Varies, Cajun, Belgian, BBQ\n",
    "   \n",
    "#### If **Aggregate Rating** is considered, then:\n",
    "\n",
    "* **Overall**\n",
    "\n",
    "    * **Top 9 Cuisines**  : Cafe, South Indian, Italian, Continental, Bakery, Mughlai, Fast Food, Chinese, North Indian\n",
    "       \n",
    "    * **Bottom 9 Cuisines** : BBQ, Belgian, Cajun, Cuisine Varies, Deli, Malwani, Persian, Sri Lankan, Drinks Only\n",
    "        \n",
    "* **Delhi-NCR**\n",
    "\n",
    "    * **Top 9 Cuisines** : North Indian, Mughlai, South Indian, Cafe, Chinese, Desserts, Fast Food, Street Food, Bakery\n",
    "\n",
    "    * **Bottom 9 Cuisines** : Burmese, Awadhi, Arabian, Gujarati, Bihari, Andhra, African, Indonesian, Armenian\n",
    "        \n",
    "* **Rest of India**\n",
    "\n",
    "    * **Top 9 Cuisines** : North Indian, Mughlai, South Indian, Cafe, Italian, Chinese, Continental, Fast Food, Bakery\n",
    "\n",
    "    * **Bottom 9 Cuisines** : South American, Persian, Oriya, Malwani, Cuisine Varies, Belgian, Deli, BBQ, Cajun\n",
    "    \n",
    "That concludes our findings from the Cuisine column.\n"
   ]
  }
 ],
 "metadata": {
  "kernelspec": {
   "display_name": "R",
   "language": "R",
   "name": "ir"
  },
  "language_info": {
   "codemirror_mode": "r",
   "file_extension": ".r",
   "mimetype": "text/x-r-source",
   "name": "R",
   "pygments_lexer": "r",
   "version": "4.1.3"
  }
 },
 "nbformat": 4,
 "nbformat_minor": 1
}
