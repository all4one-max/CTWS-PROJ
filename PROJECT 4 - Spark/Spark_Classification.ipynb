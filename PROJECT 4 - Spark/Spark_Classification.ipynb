{
  "nbformat": 4,
  "nbformat_minor": 0,
  "metadata": {
    "colab": {
      "name": "Spark Classification.ipynb",
      "provenance": []
    },
    "kernelspec": {
      "name": "python3",
      "display_name": "Python 3"
    },
    "language_info": {
      "name": "python"
    }
  },
  "cells": [
    {
      "cell_type": "code",
      "execution_count": null,
      "metadata": {
        "id": "lBC0PrQr_ydN"
      },
      "outputs": [],
      "source": [
        "!apt-get install openjdk-11-jdk-headless -qq\n",
        "!wget -q https://dlcdn.apache.org/spark/spark-3.2.1/spark-3.2.1-bin-hadoop3.2.tgz\n",
        "!tar -xf spark-3.2.1-bin-hadoop3.2.tgz\n",
        "!pip install -q findspark\n",
        "\n",
        "import os\n",
        "os.environ[\"JAVA_HOME\"] = \"/usr/lib/jvm/java-11-openjdk-amd64\"\n",
        "os.environ[\"SPARK_HOME\"] = \"/content/spark-3.2.1-bin-hadoop3.2\"\n",
        "\n",
        "import findspark\n",
        "findspark.init()\n",
        "from pyspark.sql import SparkSession\n",
        "spark = SparkSession.builder.master(\"local[*]\").getOrCreate()"
      ]
    },
    {
      "cell_type": "code",
      "source": [
        "from pyspark.ml.feature import VectorAssembler\n",
        "from pyspark.ml.regression import LinearRegression\n",
        "\n",
        "data = spark.read.csv('titanic.csv',inferSchema=True, header =True)\n",
        "data.printSchema()"
      ],
      "metadata": {
        "colab": {
          "base_uri": "https://localhost:8080/"
        },
        "id": "aQTFcsnzAt19",
        "outputId": "d340cfe4-6ab0-42a0-d5b3-dd8ea6c43906"
      },
      "execution_count": null,
      "outputs": [
        {
          "output_type": "stream",
          "name": "stdout",
          "text": [
            "root\n",
            " |-- PassengerId: integer (nullable = true)\n",
            " |-- Survived: integer (nullable = true)\n",
            " |-- Pclass: integer (nullable = true)\n",
            " |-- Name: string (nullable = true)\n",
            " |-- Gender: string (nullable = true)\n",
            " |-- Age: double (nullable = true)\n",
            " |-- SibSp: integer (nullable = true)\n",
            " |-- Parch: integer (nullable = true)\n",
            " |-- Ticket: string (nullable = true)\n",
            " |-- Fare: double (nullable = true)\n",
            " |-- Cabin: string (nullable = true)\n",
            " |-- Embarked: string (nullable = true)\n",
            "\n"
          ]
        }
      ]
    },
    {
      "cell_type": "code",
      "source": [
        "data = data.select(['Survived', 'Pclass', 'Gender', 'Age', 'SibSp', 'Parch', 'Fare'])"
      ],
      "metadata": {
        "id": "Jlq73glDBTHF"
      },
      "execution_count": null,
      "outputs": []
    },
    {
      "cell_type": "code",
      "source": [
        "from pyspark.ml.feature import Imputer\n",
        "imputer = Imputer(strategy='mean', inputCols=['Age'], outputCols=['AgeImputed'])\n",
        "imputer_model = imputer.fit(data)\n",
        "data = imputer_model.transform(data)"
      ],
      "metadata": {
        "id": "VwzarcpRBn0F"
      },
      "execution_count": null,
      "outputs": []
    },
    {
      "cell_type": "code",
      "source": [
        "from pyspark.ml.feature import StringIndexer\n",
        "gender_indexer = StringIndexer(inputCol='Gender', outputCol='GenderIndexed')\n",
        "gender_indexer_model = gender_indexer.fit(data)\n",
        "data = gender_indexer_model.transform(data)"
      ],
      "metadata": {
        "id": "r1oh8ww3B2nu"
      },
      "execution_count": null,
      "outputs": []
    },
    {
      "cell_type": "code",
      "source": [
        "data.printSchema()"
      ],
      "metadata": {
        "colab": {
          "base_uri": "https://localhost:8080/"
        },
        "id": "Qw6jZxfLCWdV",
        "outputId": "0a5caf33-f61e-4659-c809-c209b86afbbb"
      },
      "execution_count": null,
      "outputs": [
        {
          "output_type": "stream",
          "name": "stdout",
          "text": [
            "root\n",
            " |-- Survived: integer (nullable = true)\n",
            " |-- Pclass: integer (nullable = true)\n",
            " |-- Gender: string (nullable = true)\n",
            " |-- Age: double (nullable = true)\n",
            " |-- SibSp: integer (nullable = true)\n",
            " |-- Parch: integer (nullable = true)\n",
            " |-- Fare: double (nullable = true)\n",
            " |-- AgeImputed: double (nullable = true)\n",
            " |-- GenderIndexed: double (nullable = false)\n",
            "\n"
          ]
        }
      ]
    },
    {
      "cell_type": "code",
      "source": [
        "from pyspark.ml.feature import VectorAssembler\n",
        "assembler = VectorAssembler(inputCols=['Pclass', 'SibSp', 'Parch', 'Fare', 'AgeImputed', 'GenderIndexed'], outputCol='features')\n",
        "output = assembler.transform(data)\n",
        "finalized_data = output.select(\"features\", \"Survived\")\n",
        "finalized_data.show()\n"
      ],
      "metadata": {
        "colab": {
          "base_uri": "https://localhost:8080/"
        },
        "id": "PXn8KD8BCYwv",
        "outputId": "751e0e29-fddc-4980-99e5-0482ed5c9d16"
      },
      "execution_count": null,
      "outputs": [
        {
          "output_type": "stream",
          "name": "stdout",
          "text": [
            "+--------------------+--------+\n",
            "|            features|Survived|\n",
            "+--------------------+--------+\n",
            "|[3.0,1.0,0.0,7.25...|       0|\n",
            "|[1.0,1.0,0.0,71.2...|       1|\n",
            "|[3.0,0.0,0.0,7.92...|       1|\n",
            "|[1.0,1.0,0.0,53.1...|       1|\n",
            "|[3.0,0.0,0.0,8.05...|       0|\n",
            "|[3.0,0.0,0.0,8.45...|       0|\n",
            "|[1.0,0.0,0.0,51.8...|       0|\n",
            "|[3.0,3.0,1.0,21.0...|       0|\n",
            "|[3.0,0.0,2.0,11.1...|       1|\n",
            "|[2.0,1.0,0.0,30.0...|       1|\n",
            "|[3.0,1.0,1.0,16.7...|       1|\n",
            "|[1.0,0.0,0.0,26.5...|       1|\n",
            "|[3.0,0.0,0.0,8.05...|       0|\n",
            "|[3.0,1.0,5.0,31.2...|       0|\n",
            "|[3.0,0.0,0.0,7.85...|       0|\n",
            "|[2.0,0.0,0.0,16.0...|       1|\n",
            "|[3.0,4.0,1.0,29.1...|       0|\n",
            "|[2.0,0.0,0.0,13.0...|       1|\n",
            "|[3.0,1.0,0.0,18.0...|       0|\n",
            "|[3.0,0.0,0.0,7.22...|       1|\n",
            "+--------------------+--------+\n",
            "only showing top 20 rows\n",
            "\n"
          ]
        }
      ]
    },
    {
      "cell_type": "code",
      "source": [
        "train_data,test_data = finalized_data.randomSplit([0.8,0.2])\n",
        "\n",
        "from pyspark.ml.classification import RandomForestClassifier\n",
        "algo = RandomForestClassifier(featuresCol='features', labelCol='Survived')\n",
        "model = algo.fit(train_data)\n",
        "pred = model.evaluate(test_data)\n",
        "pred.predictions.show()"
      ],
      "metadata": {
        "colab": {
          "base_uri": "https://localhost:8080/"
        },
        "id": "NJKZctEKDkqz",
        "outputId": "fc078003-abb0-4a82-ae5e-b9e2540aea54"
      },
      "execution_count": null,
      "outputs": [
        {
          "output_type": "stream",
          "name": "stderr",
          "text": [
            "/content/spark-3.2.1-bin-hadoop3.2/python/pyspark/sql/context.py:127: FutureWarning: Deprecated in 3.0.0. Use SparkSession.builder.getOrCreate() instead.\n",
            "  FutureWarning\n"
          ]
        },
        {
          "output_type": "stream",
          "name": "stdout",
          "text": [
            "+--------------------+--------+--------------------+--------------------+----------+\n",
            "|            features|Survived|       rawPrediction|         probability|prediction|\n",
            "+--------------------+--------+--------------------+--------------------+----------+\n",
            "|(6,[0,4],[2.0,29....|       0|[18.1999737252064...|[0.90999868626032...|       0.0|\n",
            "|(6,[0,4],[2.0,29....|       0|[18.1999737252064...|[0.90999868626032...|       0.0|\n",
            "|[1.0,0.0,0.0,25.9...|       1|[2.69790881746876...|[0.13489544087343...|       1.0|\n",
            "|[1.0,0.0,0.0,26.0...|       0|[15.7385889970113...|[0.78692944985056...|       0.0|\n",
            "|[1.0,0.0,0.0,26.5...|       1|[10.7747876544857...|[0.53873938272428...|       0.0|\n",
            "|[1.0,0.0,0.0,26.5...|       1|[10.7747876544857...|[0.53873938272428...|       0.0|\n",
            "|[1.0,0.0,0.0,26.5...|       1|[11.2698237204520...|[0.56349118602260...|       0.0|\n",
            "|[1.0,0.0,0.0,27.7...|       0|[10.7162843939333...|[0.53581421969666...|       0.0|\n",
            "|[1.0,0.0,0.0,27.7...|       0|[11.0153192159475...|[0.55076596079737...|       0.0|\n",
            "|[1.0,0.0,0.0,29.7...|       0|[12.8343343560153...|[0.64171671780076...|       0.0|\n",
            "|[1.0,0.0,0.0,30.0...|       0|[10.7162843939333...|[0.53581421969666...|       0.0|\n",
            "|[1.0,0.0,0.0,30.6...|       0|[14.1553171780248...|[0.70776585890124...|       0.0|\n",
            "|[1.0,0.0,0.0,31.0...|       1|[0.83134990263955...|[0.04156749513197...|       1.0|\n",
            "|[1.0,0.0,0.0,34.0...|       0|[14.0664322621193...|[0.70332161310596...|       0.0|\n",
            "|[1.0,0.0,0.0,35.0...|       0|[14.1553171780248...|[0.70776585890124...|       0.0|\n",
            "|[1.0,0.0,0.0,35.5...|       1|[14.1553171780248...|[0.70776585890124...|       0.0|\n",
            "|[1.0,0.0,0.0,42.4...|       0|[14.1553171780248...|[0.70776585890124...|       0.0|\n",
            "|[1.0,0.0,0.0,49.5...|       0|[14.9308274138233...|[0.74654137069116...|       0.0|\n",
            "|[1.0,0.0,0.0,50.0...|       0|[13.9844359519712...|[0.69922179759856...|       0.0|\n",
            "|[1.0,0.0,0.0,69.3...|       1|[0.57904221033186...|[0.02895211051659...|       1.0|\n",
            "+--------------------+--------+--------------------+--------------------+----------+\n",
            "only showing top 20 rows\n",
            "\n"
          ]
        }
      ]
    },
    {
      "cell_type": "code",
      "source": [
        ""
      ],
      "metadata": {
        "id": "4kyfDW3FD3pe"
      },
      "execution_count": null,
      "outputs": []
    }
  ]
}